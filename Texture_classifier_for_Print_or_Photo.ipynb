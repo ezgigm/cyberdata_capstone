{
  "cells": [
    {
      "cell_type": "code",
      "source": [
        "from google.colab import drive\n",
        "drive.mount('/content/drive/')"
      ],
      "metadata": {
        "colab": {
          "base_uri": "https://localhost:8080/"
        },
        "id": "iCCpthoT_54b",
        "outputId": "aa9d7b4e-5860-4828-ca2e-164505f6c51f"
      },
      "execution_count": 12,
      "outputs": [
        {
          "output_type": "stream",
          "name": "stdout",
          "text": [
            "Mounted at /content/drive/\n"
          ]
        }
      ]
    },
    {
      "cell_type": "code",
      "source": [
        "!pip install pyforest"
      ],
      "metadata": {
        "colab": {
          "base_uri": "https://localhost:8080/"
        },
        "id": "tGaSLddOq0Nl",
        "outputId": "0f87ba99-bc9c-4dbe-fde7-72133b9fd2ad"
      },
      "execution_count": 3,
      "outputs": [
        {
          "output_type": "stream",
          "name": "stdout",
          "text": [
            "Looking in indexes: https://pypi.org/simple, https://us-python.pkg.dev/colab-wheels/public/simple/\n",
            "Collecting pyforest\n",
            "  Downloading pyforest-1.1.0.tar.gz (15 kB)\n",
            "Building wheels for collected packages: pyforest\n",
            "  Building wheel for pyforest (setup.py) ... \u001b[?25l\u001b[?25hdone\n",
            "  Created wheel for pyforest: filename=pyforest-1.1.0-py2.py3-none-any.whl size=14607 sha256=53a5a8ed3eec587deafe7761efb27729400b206c665c927548d2b6774b4b7cad\n",
            "  Stored in directory: /root/.cache/pip/wheels/61/1c/da/48e6c884142d485475d852d69d20a096aba5beceb338822893\n",
            "Successfully built pyforest\n",
            "Installing collected packages: pyforest\n",
            "Successfully installed pyforest-1.1.0\n"
          ]
        }
      ]
    },
    {
      "cell_type": "code",
      "source": [
        "pip install lazypredict"
      ],
      "metadata": {
        "colab": {
          "base_uri": "https://localhost:8080/"
        },
        "id": "MHhOkJrvrM65",
        "outputId": "fcf13118-6695-4b86-bf68-169cd762e1f4"
      },
      "execution_count": 7,
      "outputs": [
        {
          "output_type": "stream",
          "name": "stdout",
          "text": [
            "Looking in indexes: https://pypi.org/simple, https://us-python.pkg.dev/colab-wheels/public/simple/\n",
            "Collecting lazypredict\n",
            "  Downloading lazypredict-0.2.12-py2.py3-none-any.whl (12 kB)\n",
            "Requirement already satisfied: joblib in /usr/local/lib/python3.7/dist-packages (from lazypredict) (1.2.0)\n",
            "Requirement already satisfied: click in /usr/local/lib/python3.7/dist-packages (from lazypredict) (7.1.2)\n",
            "Requirement already satisfied: pandas in /usr/local/lib/python3.7/dist-packages (from lazypredict) (1.3.5)\n",
            "Requirement already satisfied: xgboost in /usr/local/lib/python3.7/dist-packages (from lazypredict) (0.90)\n",
            "Requirement already satisfied: tqdm in /usr/local/lib/python3.7/dist-packages (from lazypredict) (4.64.1)\n",
            "Requirement already satisfied: lightgbm in /usr/local/lib/python3.7/dist-packages (from lazypredict) (2.2.3)\n",
            "Requirement already satisfied: scikit-learn in /usr/local/lib/python3.7/dist-packages (from lazypredict) (1.0.2)\n",
            "Requirement already satisfied: scipy in /usr/local/lib/python3.7/dist-packages (from lightgbm->lazypredict) (1.7.3)\n",
            "Requirement already satisfied: numpy in /usr/local/lib/python3.7/dist-packages (from lightgbm->lazypredict) (1.21.6)\n",
            "Requirement already satisfied: python-dateutil>=2.7.3 in /usr/local/lib/python3.7/dist-packages (from pandas->lazypredict) (2.8.2)\n",
            "Requirement already satisfied: pytz>=2017.3 in /usr/local/lib/python3.7/dist-packages (from pandas->lazypredict) (2022.6)\n",
            "Requirement already satisfied: six>=1.5 in /usr/local/lib/python3.7/dist-packages (from python-dateutil>=2.7.3->pandas->lazypredict) (1.15.0)\n",
            "Requirement already satisfied: threadpoolctl>=2.0.0 in /usr/local/lib/python3.7/dist-packages (from scikit-learn->lazypredict) (3.1.0)\n",
            "Installing collected packages: lazypredict\n",
            "Successfully installed lazypredict-0.2.12\n"
          ]
        }
      ]
    },
    {
      "cell_type": "code",
      "source": [
        "import pyforest\n",
        "import lazypredict\n",
        "from lazypredict.Supervised import LazyClassifier\n",
        "import warnings\n",
        "warnings.filterwarnings(\"ignore\")"
      ],
      "metadata": {
        "id": "3cGQbIFhquHd"
      },
      "execution_count": 13,
      "outputs": []
    },
    {
      "cell_type": "markdown",
      "metadata": {
        "id": "boB14adM_OH-"
      },
      "source": [
        "### Import Packages"
      ]
    },
    {
      "cell_type": "code",
      "execution_count": 92,
      "metadata": {
        "id": "X5u2xk4l_OH_"
      },
      "outputs": [],
      "source": [
        "import os\n",
        "import zipfile\n",
        "import urllib.request\n",
        "import numpy as np\n",
        "from PIL import Image, ImageOps\n",
        "from pathlib import Path\n",
        "import matplotlib.pyplot as plt\n",
        "from matplotlib import cm\n",
        "import seaborn as sns\n",
        "from statistics import mean\n",
        "\n",
        "# open source implementation of LBP\n",
        "from skimage.feature import local_binary_pattern\n",
        "# data preprocessing and metrics module in scikit-learn\n",
        "from sklearn import preprocessing, metrics\n",
        "# SVM implementation in scikit-learn\n",
        "from sklearn.svm import LinearSVC\n",
        "from tqdm import tqdm\n",
        "from sklearn.model_selection import RandomizedSearchCV\n",
        "from scipy.stats import reciprocal, uniform\n",
        "from sklearn.metrics import precision_recall_fscore_support\n",
        "from sklearn.metrics import precision_score, recall_score, f1_score, accuracy_score\n",
        "from sklearn.linear_model import RidgeClassifierCV\n"
      ]
    },
    {
      "cell_type": "markdown",
      "metadata": {
        "id": "UOG0q_6m_OIA"
      },
      "source": [
        "### Local Binary Patterns"
      ]
    },
    {
      "cell_type": "code",
      "source": [
        "radius = 3 # radius of coverage of surrounding pixels\n",
        "points = 8 * radius # 8 points will be around every pixel, 24 points or possible encoding patterns around the pixel of interestbins = points + 2\n",
        "img = Image.open('/content/drive/MyDrive/LBP/test/Photo/E1 copy 2.jpeg')\n",
        "arr = np.array(img)\n",
        "lbp = local_binary_pattern(arr, points, radius, 'uniform')\n"
      ],
      "metadata": {
        "id": "mGY4o2sXP1fk"
      },
      "execution_count": 99,
      "outputs": []
    },
    {
      "cell_type": "code",
      "source": [
        "lbp.shape"
      ],
      "metadata": {
        "colab": {
          "base_uri": "https://localhost:8080/"
        },
        "id": "tTNGqnUqX8kX",
        "outputId": "4f2813ff-4ca9-4c00-9339-c0485c95a33d"
      },
      "execution_count": 103,
      "outputs": [
        {
          "output_type": "execute_result",
          "data": {
            "text/plain": [
              "(6724,)"
            ]
          },
          "metadata": {},
          "execution_count": 103
        }
      ]
    },
    {
      "cell_type": "code",
      "source": [
        "lbp = lbp.ravel()\n",
        "lbp"
      ],
      "metadata": {
        "colab": {
          "base_uri": "https://localhost:8080/"
        },
        "id": "IE1rEc39YAG4",
        "outputId": "f6c15855-0a47-4619-a49f-a7d2370130cc"
      },
      "execution_count": 102,
      "outputs": [
        {
          "output_type": "execute_result",
          "data": {
            "text/plain": [
              "array([ 1., 25., 25., ..., 25.,  2.,  2.])"
            ]
          },
          "metadata": {},
          "execution_count": 102
        }
      ]
    },
    {
      "cell_type": "code",
      "execution_count": 15,
      "metadata": {
        "id": "My6d-QQi_OIA"
      },
      "outputs": [],
      "source": [
        "def lbp(arr):\n",
        "\n",
        "    # LBP params\n",
        "    radius = 3 # radius of coverage of surrounding pixels\n",
        "    points = 8 * radius # 8 points will be around every pixel, 24 points or possible encoding patterns around the pixel of interest\n",
        "    # 8 and 3 are standard values\n",
        "    bins = points + 2\n",
        "    lbp = local_binary_pattern(arr, points, radius, 'uniform') # outputs a larger list of arrays totalling 6724\n",
        "    lbp = lbp.ravel() # make the list of arrays into one large list\n",
        "    feature = np.zeros(bins)\n",
        "    for i in lbp:\n",
        "        feature[int(i)] += 1 # count the occurance of each value\n",
        "    feature /= np.linalg.norm(feature, ord=1) # normalize the features\n",
        "    return feature"
      ]
    },
    {
      "cell_type": "markdown",
      "metadata": {
        "id": "Vds7gNXD_OIA"
      },
      "source": [
        "### Load Data"
      ]
    },
    {
      "cell_type": "code",
      "execution_count": 17,
      "metadata": {
        "id": "kou8ww38_OIB",
        "colab": {
          "base_uri": "https://localhost:8080/"
        },
        "outputId": "bf577e7f-393f-49cb-d02c-c2e24a78c1eb"
      },
      "outputs": [
        {
          "output_type": "stream",
          "name": "stderr",
          "text": [
            "0it [00:00, ?it/s]\n",
            "194it [00:14, 13.32it/s]\n",
            "896it [00:46, 19.36it/s]\n",
            "0it [00:00, ?it/s]\n",
            "108it [00:05, 20.05it/s]\n",
            "137it [00:08, 16.02it/s]\n"
          ]
        }
      ],
      "source": [
        "def load_data(tag='train'):\n",
        "\n",
        "    tag_dir = Path.cwd() / tag # get the file directory\n",
        "    vec = []\n",
        "    cat = []\n",
        "    for cat_dir in tag_dir.iterdir():# iterate through the directory\n",
        "        cat_label = cat_dir.stem # get labled photo names\n",
        "        for img_path in tqdm(cat_dir.glob('*.jpeg')): # get files that are jpeg\n",
        "            img = Image.open(img_path.as_posix()) # open each jpeg\n",
        "            if img.mode != 'L': # if not greyscale convert with this conditional loop\n",
        "                img = ImageOps.grayscale(img)\n",
        "                img.save(img_path.as_posix())\n",
        "            arr = np.array(img) #convert into array\n",
        "            feature = lbp(arr) # get feature vectors\n",
        "            vec.append(feature) #append to feature vector list\n",
        "            cat.append(cat_label) # append to cat_label list\n",
        "    return vec, cat\n",
        "\n",
        "# train photos\n",
        "vec_train, cat_train = load_data('drive/MyDrive/LBP/train')\n",
        "# test photos\n",
        "vec_test, cat_test   = load_data('drive/MyDrive/LBP/test')"
      ]
    },
    {
      "cell_type": "code",
      "source": [
        "photo_label = cat_train[195:897]\n",
        "print_label = cat_train[:194]"
      ],
      "metadata": {
        "id": "oywiCfbb_TiW"
      },
      "execution_count": 18,
      "outputs": []
    },
    {
      "cell_type": "code",
      "source": [
        "photo_vec = vec_train[195 :897]\n",
        "print_vec = vec_train[:194]"
      ],
      "metadata": {
        "id": "PqEGrb10ziXz"
      },
      "execution_count": 19,
      "outputs": []
    },
    {
      "cell_type": "code",
      "source": [
        "\n",
        "for i in range(len(print_vec)):\n",
        "  sns.histplot(data=print_vec[i])\n",
        "\n",
        "  "
      ],
      "metadata": {
        "colab": {
          "base_uri": "https://localhost:8080/",
          "height": 265
        },
        "id": "-eS6RB9jBWzb",
        "outputId": "ce0f02ea-1faa-4ea3-990e-487446a2eede"
      },
      "execution_count": 20,
      "outputs": [
        {
          "output_type": "display_data",
          "data": {
            "text/plain": [
              "<Figure size 432x288 with 1 Axes>"
            ],
            "image/png": "[encoded data removed]"
          },
          "metadata": {
            "needs_background": "light"
          }
        }
      ]
    },
    {
      "cell_type": "code",
      "source": [
        "\n",
        "for i in range(len(photo_vec)):\n",
        "  sns.histplot(data=photo_vec[i])\n",
        "  \n",
        "  "
      ],
      "metadata": {
        "colab": {
          "base_uri": "https://localhost:8080/",
          "height": 265
        },
        "id": "tYzGO8hbUoNT",
        "outputId": "ea287b96-a49f-46d0-b452-a207cf55e57a"
      },
      "execution_count": 21,
      "outputs": [
        {
          "output_type": "display_data",
          "data": {
            "text/plain": [
              "<Figure size 432x288 with 1 Axes>"
            ],
            "image/png": "[encoded data removed]"
          },
          "metadata": {
            "needs_background": "light"
          }
        }
      ]
    },
    {
      "cell_type": "code",
      "source": [
        "photo_thistory = cat_test[:108]\n",
        "print_thistory= cat_test[109:]\n",
        "photo_tvec = vec_test[:108]\n",
        "print_tvec = vec_test[109:]\n"
      ],
      "metadata": {
        "id": "-Fwz4FriRwfV"
      },
      "execution_count": 22,
      "outputs": []
    },
    {
      "cell_type": "code",
      "source": [
        "\n",
        "for i in range(len(print_tvec)):\n",
        "  sns.histplot(data=print_tvec[i])"
      ],
      "metadata": {
        "colab": {
          "base_uri": "https://localhost:8080/",
          "height": 265
        },
        "id": "84qU7WeTW97t",
        "outputId": "8550ec30-d25f-45c7-b2bb-3d12b5f48065"
      },
      "execution_count": 23,
      "outputs": [
        {
          "output_type": "display_data",
          "data": {
            "text/plain": [
              "<Figure size 432x288 with 1 Axes>"
            ],
            "image/png": "[encoded data removed]"
          },
          "metadata": {
            "needs_background": "light"
          }
        }
      ]
    },
    {
      "cell_type": "code",
      "source": [
        "\n",
        "for i in range(len(photo_tvec)):\n",
        "  sns.histplot(data=photo_tvec[i])"
      ],
      "metadata": {
        "colab": {
          "base_uri": "https://localhost:8080/",
          "height": 265
        },
        "id": "CssPcwoiXCI_",
        "outputId": "586f66f0-df33-4577-b214-7cd6252b6ad3"
      },
      "execution_count": 24,
      "outputs": [
        {
          "output_type": "display_data",
          "data": {
            "text/plain": [
              "<Figure size 432x288 with 1 Axes>"
            ],
            "image/png": "[encoded data removed]"
          },
          "metadata": {
            "needs_background": "light"
          }
        }
      ]
    },
    {
      "cell_type": "markdown",
      "metadata": {
        "id": "8TuzkGXN_OIB"
      },
      "source": [
        "### List the categories"
      ]
    },
    {
      "cell_type": "code",
      "execution_count": 25,
      "metadata": {
        "colab": {
          "base_uri": "https://localhost:8080/"
        },
        "id": "dhI-wnt-_OIB",
        "outputId": "11cdaf33-3f28-4974-faaf-30b77e8e50a6"
      },
      "outputs": [
        {
          "output_type": "execute_result",
          "data": {
            "text/plain": [
              "['Photo', 'Print']"
            ]
          },
          "metadata": {},
          "execution_count": 25
        }
      ],
      "source": [
        "# get unique categories \n",
        "labels = list(np.unique(np.array(cat_train)))\n",
        "labels"
      ]
    },
    {
      "cell_type": "markdown",
      "metadata": {
        "id": "rNR9roET_OIC"
      },
      "source": [
        "### Label Encoder"
      ]
    },
    {
      "cell_type": "code",
      "execution_count": 26,
      "metadata": {
        "id": "d1jwDz0-_OIC"
      },
      "outputs": [],
      "source": [
        "# encode the photo and print vectors as a binary classification\n",
        "le = preprocessing.LabelEncoder()\n",
        "label_train = le.fit_transform(cat_train)\n",
        "label_test = le.transform(cat_test)"
      ]
    },
    {
      "cell_type": "code",
      "source": [
        "vec_train[:3]\n"
      ],
      "metadata": {
        "colab": {
          "base_uri": "https://localhost:8080/"
        },
        "id": "llZ7Tfr-uGRt",
        "outputId": "e1884c35-5512-46b8-ffd9-c57ba496c6bc"
      },
      "execution_count": 52,
      "outputs": [
        {
          "output_type": "execute_result",
          "data": {
            "text/plain": [
              "[array([0.03127315, 0.02462963, 0.0169213 , 0.013125  , 0.01180556,\n",
              "        0.01113426, 0.01296296, 0.01599537, 0.01858796, 0.02287037,\n",
              "        0.02851852, 0.04020833, 0.05206019, 0.04518519, 0.02643519,\n",
              "        0.02747685, 0.01645833, 0.01858796, 0.01284722, 0.01166667,\n",
              "        0.01314815, 0.01571759, 0.01736111, 0.02344907, 0.06122685,\n",
              "        0.41034722]),\n",
              " array([0.03712963, 0.02268519, 0.02081019, 0.01789352, 0.01425926,\n",
              "        0.01472222, 0.01525463, 0.01618056, 0.01863426, 0.02351852,\n",
              "        0.03018519, 0.04243056, 0.05668981, 0.04388889, 0.02733796,\n",
              "        0.02076389, 0.01543981, 0.01368056, 0.01199074, 0.01238426,\n",
              "        0.01259259, 0.0175    , 0.01974537, 0.02488426, 0.04638889,\n",
              "        0.40300926]),\n",
              " array([0.04530093, 0.02511574, 0.02148148, 0.01532407, 0.01166667,\n",
              "        0.00921296, 0.00912037, 0.01173611, 0.01347222, 0.01618056,\n",
              "        0.01868056, 0.02608796, 0.03516204, 0.04148148, 0.0181713 ,\n",
              "        0.0225    , 0.01259259, 0.01905093, 0.01256944, 0.01550926,\n",
              "        0.01578704, 0.01759259, 0.02280093, 0.0255787 , 0.07289352,\n",
              "        0.44493056])]"
            ]
          },
          "metadata": {},
          "execution_count": 52
        }
      ]
    },
    {
      "cell_type": "code",
      "source": [
        "label_train[:3]"
      ],
      "metadata": {
        "colab": {
          "base_uri": "https://localhost:8080/"
        },
        "id": "NOA1M3GNyFl4",
        "outputId": "54f91a3b-1089-4b64-e30b-321324fa3f75"
      },
      "execution_count": 51,
      "outputs": [
        {
          "output_type": "execute_result",
          "data": {
            "text/plain": [
              "array([1, 1, 1])"
            ]
          },
          "metadata": {},
          "execution_count": 51
        }
      ]
    },
    {
      "cell_type": "code",
      "source": [
        "from sklearn.datasets import load_breast_cancer\n",
        "from sklearn.model_selection import train_test_split\n",
        "data = load_breast_cancer()\n",
        "X = data.data\n",
        "y = data.target\n",
        "X_train, X_test, y_train, y_test = train_test_split(X, y, test_size=.5, random_state =123)\n"
      ],
      "metadata": {
        "id": "o1B_tns0zq1X"
      },
      "execution_count": 55,
      "outputs": []
    },
    {
      "cell_type": "code",
      "source": [
        "X_train"
      ],
      "metadata": {
        "colab": {
          "base_uri": "https://localhost:8080/"
        },
        "id": "1P7uT9Hjz_zz",
        "outputId": "994304b4-2d43-446e-c6fd-e39c84edcbb9"
      },
      "execution_count": 58,
      "outputs": [
        {
          "output_type": "execute_result",
          "data": {
            "text/plain": [
              "array([[9.676e+00, 1.314e+01, 6.412e+01, ..., 1.075e-01, 2.848e-01,\n",
              "        1.364e-01],\n",
              "       [1.354e+01, 1.436e+01, 8.746e+01, ..., 1.288e-01, 2.977e-01,\n",
              "        7.259e-02],\n",
              "       [1.757e+01, 1.505e+01, 1.150e+02, ..., 1.456e-01, 2.756e-01,\n",
              "        7.919e-02],\n",
              "       ...,\n",
              "       [1.205e+01, 2.272e+01, 7.875e+01, ..., 1.092e-01, 2.191e-01,\n",
              "        9.349e-02],\n",
              "       [2.044e+01, 2.178e+01, 1.338e+02, ..., 1.765e-01, 2.609e-01,\n",
              "        6.735e-02],\n",
              "       [1.174e+01, 1.469e+01, 7.631e+01, ..., 1.056e-01, 2.604e-01,\n",
              "        9.879e-02]])"
            ]
          },
          "metadata": {},
          "execution_count": 58
        }
      ]
    },
    {
      "cell_type": "code",
      "source": [
        "vec_train_2 = np.array(vec_train)\n",
        "vec_test_2 = np.array(vec_test)"
      ],
      "metadata": {
        "id": "NuCJ2ndk0HXq"
      },
      "execution_count": 62,
      "outputs": []
    },
    {
      "cell_type": "markdown",
      "source": [
        "##Lazy predict"
      ],
      "metadata": {
        "id": "Ii7R4RyQr12v"
      }
    },
    {
      "cell_type": "code",
      "source": [
        "clf_lazy = LazyClassifier(verbose=0,ignore_warnings=True)\n",
        "models, predictions = clf_lazy.fit(vec_train_2, vec_test_2, label_train, label_test)\n",
        "models"
      ],
      "metadata": {
        "colab": {
          "base_uri": "https://localhost:8080/",
          "height": 914
        },
        "id": "NaZLraXEr6oZ",
        "outputId": "6b8cc2d9-3cd5-4f98-94f4-8e3320de57f8"
      },
      "execution_count": 63,
      "outputs": [
        {
          "output_type": "stream",
          "name": "stderr",
          "text": [
            "100%|██████████| 29/29 [00:02<00:00, 12.21it/s]\n"
          ]
        },
        {
          "output_type": "execute_result",
          "data": {
            "text/plain": [
              "                               Accuracy  Balanced Accuracy  ROC AUC  F1 Score  \\\n",
              "Model                                                                           \n",
              "RidgeClassifierCV                  1.00               1.00     1.00      1.00   \n",
              "RidgeClassifier                    1.00               1.00     1.00      1.00   \n",
              "LinearDiscriminantAnalysis         1.00               1.00     1.00      1.00   \n",
              "Perceptron                         0.99               0.99     0.99      0.99   \n",
              "LabelPropagation                   0.96               0.97     0.97      0.96   \n",
              "LabelSpreading                     0.96               0.97     0.97      0.96   \n",
              "KNeighborsClassifier               0.96               0.97     0.97      0.96   \n",
              "AdaBoostClassifier                 0.95               0.96     0.96      0.95   \n",
              "LogisticRegression                 0.94               0.95     0.95      0.94   \n",
              "PassiveAggressiveClassifier        0.95               0.95     0.95      0.95   \n",
              "LinearSVC                          0.95               0.95     0.95      0.95   \n",
              "CalibratedClassifierCV             0.95               0.95     0.95      0.95   \n",
              "DecisionTreeClassifier             0.91               0.92     0.92      0.91   \n",
              "XGBClassifier                      0.91               0.92     0.92      0.91   \n",
              "SGDClassifier                      0.90               0.91     0.91      0.90   \n",
              "ExtraTreeClassifier                0.89               0.90     0.90      0.89   \n",
              "BernoulliNB                        0.90               0.90     0.90      0.90   \n",
              "GaussianNB                         0.88               0.89     0.89      0.88   \n",
              "BaggingClassifier                  0.87               0.88     0.88      0.87   \n",
              "RandomForestClassifier             0.87               0.88     0.88      0.87   \n",
              "SVC                                0.87               0.88     0.88      0.87   \n",
              "NearestCentroid                    0.89               0.88     0.88      0.88   \n",
              "ExtraTreesClassifier               0.84               0.86     0.86      0.84   \n",
              "LGBMClassifier                     0.83               0.85     0.85      0.83   \n",
              "QuadraticDiscriminantAnalysis      0.61               0.65     0.65      0.56   \n",
              "DummyClassifier                    0.44               0.50     0.50      0.27   \n",
              "\n",
              "                               Time Taken  \n",
              "Model                                      \n",
              "RidgeClassifierCV                    0.02  \n",
              "RidgeClassifier                      0.01  \n",
              "LinearDiscriminantAnalysis           0.03  \n",
              "Perceptron                           0.01  \n",
              "LabelPropagation                     0.08  \n",
              "LabelSpreading                       0.11  \n",
              "KNeighborsClassifier                 0.03  \n",
              "AdaBoostClassifier                   0.31  \n",
              "LogisticRegression                   0.03  \n",
              "PassiveAggressiveClassifier          0.02  \n",
              "LinearSVC                            0.02  \n",
              "CalibratedClassifierCV               0.10  \n",
              "DecisionTreeClassifier               0.02  \n",
              "XGBClassifier                        0.74  \n",
              "SGDClassifier                        0.02  \n",
              "ExtraTreeClassifier                  0.02  \n",
              "BernoulliNB                          0.02  \n",
              "GaussianNB                           0.01  \n",
              "BaggingClassifier                    0.07  \n",
              "RandomForestClassifier               0.24  \n",
              "SVC                                  0.02  \n",
              "NearestCentroid                      0.01  \n",
              "ExtraTreesClassifier                 0.17  \n",
              "LGBMClassifier                       0.20  \n",
              "QuadraticDiscriminantAnalysis        0.02  \n",
              "DummyClassifier                      0.01  "
            ],
            "text/html": [
              "\n",
              "  <div id=\"df-340d9614-5a6f-4eb7-aab2-7b0c536879a7\">\n",
              "    <div class=\"colab-df-container\">\n",
              "      <div>\n",
              "<style scoped>\n",
              "    .dataframe tbody tr th:only-of-type {\n",
              "        vertical-align: middle;\n",
              "    }\n",
              "\n",
              "    .dataframe tbody tr th {\n",
              "        vertical-align: top;\n",
              "    }\n",
              "\n",
              "    .dataframe thead th {\n",
              "        text-align: right;\n",
              "    }\n",
              "</style>\n",
              "<table border=\"1\" class=\"dataframe\">\n",
              "  <thead>\n",
              "    <tr style=\"text-align: right;\">\n",
              "      <th></th>\n",
              "      <th>Accuracy</th>\n",
              "      <th>Balanced Accuracy</th>\n",
              "      <th>ROC AUC</th>\n",
              "      <th>F1 Score</th>\n",
              "      <th>Time Taken</th>\n",
              "    </tr>\n",
              "    <tr>\n",
              "      <th>Model</th>\n",
              "      <th></th>\n",
              "      <th></th>\n",
              "      <th></th>\n",
              "      <th></th>\n",
              "      <th></th>\n",
              "    </tr>\n",
              "  </thead>\n",
              "  <tbody>\n",
              "    <tr>\n",
              "      <th>RidgeClassifierCV</th>\n",
              "      <td>1.00</td>\n",
              "      <td>1.00</td>\n",
              "      <td>1.00</td>\n",
              "      <td>1.00</td>\n",
              "      <td>0.02</td>\n",
              "    </tr>\n",
              "    <tr>\n",
              "      <th>RidgeClassifier</th>\n",
              "      <td>1.00</td>\n",
              "      <td>1.00</td>\n",
              "      <td>1.00</td>\n",
              "      <td>1.00</td>\n",
              "      <td>0.01</td>\n",
              "    </tr>\n",
              "    <tr>\n",
              "      <th>LinearDiscriminantAnalysis</th>\n",
              "      <td>1.00</td>\n",
              "      <td>1.00</td>\n",
              "      <td>1.00</td>\n",
              "      <td>1.00</td>\n",
              "      <td>0.03</td>\n",
              "    </tr>\n",
              "    <tr>\n",
              "      <th>Perceptron</th>\n",
              "      <td>0.99</td>\n",
              "      <td>0.99</td>\n",
              "      <td>0.99</td>\n",
              "      <td>0.99</td>\n",
              "      <td>0.01</td>\n",
              "    </tr>\n",
              "    <tr>\n",
              "      <th>LabelPropagation</th>\n",
              "      <td>0.96</td>\n",
              "      <td>0.97</td>\n",
              "      <td>0.97</td>\n",
              "      <td>0.96</td>\n",
              "      <td>0.08</td>\n",
              "    </tr>\n",
              "    <tr>\n",
              "      <th>LabelSpreading</th>\n",
              "      <td>0.96</td>\n",
              "      <td>0.97</td>\n",
              "      <td>0.97</td>\n",
              "      <td>0.96</td>\n",
              "      <td>0.11</td>\n",
              "    </tr>\n",
              "    <tr>\n",
              "      <th>KNeighborsClassifier</th>\n",
              "      <td>0.96</td>\n",
              "      <td>0.97</td>\n",
              "      <td>0.97</td>\n",
              "      <td>0.96</td>\n",
              "      <td>0.03</td>\n",
              "    </tr>\n",
              "    <tr>\n",
              "      <th>AdaBoostClassifier</th>\n",
              "      <td>0.95</td>\n",
              "      <td>0.96</td>\n",
              "      <td>0.96</td>\n",
              "      <td>0.95</td>\n",
              "      <td>0.31</td>\n",
              "    </tr>\n",
              "    <tr>\n",
              "      <th>LogisticRegression</th>\n",
              "      <td>0.94</td>\n",
              "      <td>0.95</td>\n",
              "      <td>0.95</td>\n",
              "      <td>0.94</td>\n",
              "      <td>0.03</td>\n",
              "    </tr>\n",
              "    <tr>\n",
              "      <th>PassiveAggressiveClassifier</th>\n",
              "      <td>0.95</td>\n",
              "      <td>0.95</td>\n",
              "      <td>0.95</td>\n",
              "      <td>0.95</td>\n",
              "      <td>0.02</td>\n",
              "    </tr>\n",
              "    <tr>\n",
              "      <th>LinearSVC</th>\n",
              "      <td>0.95</td>\n",
              "      <td>0.95</td>\n",
              "      <td>0.95</td>\n",
              "      <td>0.95</td>\n",
              "      <td>0.02</td>\n",
              "    </tr>\n",
              "    <tr>\n",
              "      <th>CalibratedClassifierCV</th>\n",
              "      <td>0.95</td>\n",
              "      <td>0.95</td>\n",
              "      <td>0.95</td>\n",
              "      <td>0.95</td>\n",
              "      <td>0.10</td>\n",
              "    </tr>\n",
              "    <tr>\n",
              "      <th>DecisionTreeClassifier</th>\n",
              "      <td>0.91</td>\n",
              "      <td>0.92</td>\n",
              "      <td>0.92</td>\n",
              "      <td>0.91</td>\n",
              "      <td>0.02</td>\n",
              "    </tr>\n",
              "    <tr>\n",
              "      <th>XGBClassifier</th>\n",
              "      <td>0.91</td>\n",
              "      <td>0.92</td>\n",
              "      <td>0.92</td>\n",
              "      <td>0.91</td>\n",
              "      <td>0.74</td>\n",
              "    </tr>\n",
              "    <tr>\n",
              "      <th>SGDClassifier</th>\n",
              "      <td>0.90</td>\n",
              "      <td>0.91</td>\n",
              "      <td>0.91</td>\n",
              "      <td>0.90</td>\n",
              "      <td>0.02</td>\n",
              "    </tr>\n",
              "    <tr>\n",
              "      <th>ExtraTreeClassifier</th>\n",
              "      <td>0.89</td>\n",
              "      <td>0.90</td>\n",
              "      <td>0.90</td>\n",
              "      <td>0.89</td>\n",
              "      <td>0.02</td>\n",
              "    </tr>\n",
              "    <tr>\n",
              "      <th>BernoulliNB</th>\n",
              "      <td>0.90</td>\n",
              "      <td>0.90</td>\n",
              "      <td>0.90</td>\n",
              "      <td>0.90</td>\n",
              "      <td>0.02</td>\n",
              "    </tr>\n",
              "    <tr>\n",
              "      <th>GaussianNB</th>\n",
              "      <td>0.88</td>\n",
              "      <td>0.89</td>\n",
              "      <td>0.89</td>\n",
              "      <td>0.88</td>\n",
              "      <td>0.01</td>\n",
              "    </tr>\n",
              "    <tr>\n",
              "      <th>BaggingClassifier</th>\n",
              "      <td>0.87</td>\n",
              "      <td>0.88</td>\n",
              "      <td>0.88</td>\n",
              "      <td>0.87</td>\n",
              "      <td>0.07</td>\n",
              "    </tr>\n",
              "    <tr>\n",
              "      <th>RandomForestClassifier</th>\n",
              "      <td>0.87</td>\n",
              "      <td>0.88</td>\n",
              "      <td>0.88</td>\n",
              "      <td>0.87</td>\n",
              "      <td>0.24</td>\n",
              "    </tr>\n",
              "    <tr>\n",
              "      <th>SVC</th>\n",
              "      <td>0.87</td>\n",
              "      <td>0.88</td>\n",
              "      <td>0.88</td>\n",
              "      <td>0.87</td>\n",
              "      <td>0.02</td>\n",
              "    </tr>\n",
              "    <tr>\n",
              "      <th>NearestCentroid</th>\n",
              "      <td>0.89</td>\n",
              "      <td>0.88</td>\n",
              "      <td>0.88</td>\n",
              "      <td>0.88</td>\n",
              "      <td>0.01</td>\n",
              "    </tr>\n",
              "    <tr>\n",
              "      <th>ExtraTreesClassifier</th>\n",
              "      <td>0.84</td>\n",
              "      <td>0.86</td>\n",
              "      <td>0.86</td>\n",
              "      <td>0.84</td>\n",
              "      <td>0.17</td>\n",
              "    </tr>\n",
              "    <tr>\n",
              "      <th>LGBMClassifier</th>\n",
              "      <td>0.83</td>\n",
              "      <td>0.85</td>\n",
              "      <td>0.85</td>\n",
              "      <td>0.83</td>\n",
              "      <td>0.20</td>\n",
              "    </tr>\n",
              "    <tr>\n",
              "      <th>QuadraticDiscriminantAnalysis</th>\n",
              "      <td>0.61</td>\n",
              "      <td>0.65</td>\n",
              "      <td>0.65</td>\n",
              "      <td>0.56</td>\n",
              "      <td>0.02</td>\n",
              "    </tr>\n",
              "    <tr>\n",
              "      <th>DummyClassifier</th>\n",
              "      <td>0.44</td>\n",
              "      <td>0.50</td>\n",
              "      <td>0.50</td>\n",
              "      <td>0.27</td>\n",
              "      <td>0.01</td>\n",
              "    </tr>\n",
              "  </tbody>\n",
              "</table>\n",
              "</div>\n",
              "      <button class=\"colab-df-convert\" onclick=\"convertToInteractive('df-340d9614-5a6f-4eb7-aab2-7b0c536879a7')\"\n",
              "              title=\"Convert this dataframe to an interactive table.\"\n",
              "              style=\"display:none;\">\n",
              "        \n",
              "  <svg xmlns=\"http://www.w3.org/2000/svg\" height=\"24px\"viewBox=\"0 0 24 24\"\n",
              "       width=\"24px\">\n",
              "    <path d=\"M0 0h24v24H0V0z\" fill=\"none\"/>\n",
              "    <path d=\"M18.56 5.44l.94 2.06.94-2.06 2.06-.94-2.06-.94-.94-2.06-.94 2.06-2.06.94zm-11 1L8.5 8.5l.94-2.06 2.06-.94-2.06-.94L8.5 2.5l-.94 2.06-2.06.94zm10 10l.94 2.06.94-2.06 2.06-.94-2.06-.94-.94-2.06-.94 2.06-2.06.94z\"/><path d=\"M17.41 7.96l-1.37-1.37c-.4-.4-.92-.59-1.43-.59-.52 0-1.04.2-1.43.59L10.3 9.45l-7.72 7.72c-.78.78-.78 2.05 0 2.83L4 21.41c.39.39.9.59 1.41.59.51 0 1.02-.2 1.41-.59l7.78-7.78 2.81-2.81c.8-.78.8-2.07 0-2.86zM5.41 20L4 18.59l7.72-7.72 1.47 1.35L5.41 20z\"/>\n",
              "  </svg>\n",
              "      </button>\n",
              "      \n",
              "  <style>\n",
              "    .colab-df-container {\n",
              "      display:flex;\n",
              "      flex-wrap:wrap;\n",
              "      gap: 12px;\n",
              "    }\n",
              "\n",
              "    .colab-df-convert {\n",
              "      background-color: #E8F0FE;\n",
              "      border: none;\n",
              "      border-radius: 50%;\n",
              "      cursor: pointer;\n",
              "      display: none;\n",
              "      fill: #1967D2;\n",
              "      height: 32px;\n",
              "      padding: 0 0 0 0;\n",
              "      width: 32px;\n",
              "    }\n",
              "\n",
              "    .colab-df-convert:hover {\n",
              "      background-color: #E2EBFA;\n",
              "      box-shadow: 0px 1px 2px rgba(60, 64, 67, 0.3), 0px 1px 3px 1px rgba(60, 64, 67, 0.15);\n",
              "      fill: #174EA6;\n",
              "    }\n",
              "\n",
              "    [theme=dark] .colab-df-convert {\n",
              "      background-color: #3B4455;\n",
              "      fill: #D2E3FC;\n",
              "    }\n",
              "\n",
              "    [theme=dark] .colab-df-convert:hover {\n",
              "      background-color: #434B5C;\n",
              "      box-shadow: 0px 1px 3px 1px rgba(0, 0, 0, 0.15);\n",
              "      filter: drop-shadow(0px 1px 2px rgba(0, 0, 0, 0.3));\n",
              "      fill: #FFFFFF;\n",
              "    }\n",
              "  </style>\n",
              "\n",
              "      <script>\n",
              "        const buttonEl =\n",
              "          document.querySelector('#df-340d9614-5a6f-4eb7-aab2-7b0c536879a7 button.colab-df-convert');\n",
              "        buttonEl.style.display =\n",
              "          google.colab.kernel.accessAllowed ? 'block' : 'none';\n",
              "\n",
              "        async function convertToInteractive(key) {\n",
              "          const element = document.querySelector('#df-340d9614-5a6f-4eb7-aab2-7b0c536879a7');\n",
              "          const dataTable =\n",
              "            await google.colab.kernel.invokeFunction('convertToInteractive',\n",
              "                                                     [key], {});\n",
              "          if (!dataTable) return;\n",
              "\n",
              "          const docLinkHtml = 'Like what you see? Visit the ' +\n",
              "            '<a target=\"_blank\" href=https://colab.research.google.com/notebooks/data_table.ipynb>data table notebook</a>'\n",
              "            + ' to learn more about interactive tables.';\n",
              "          element.innerHTML = '';\n",
              "          dataTable['output_type'] = 'display_data';\n",
              "          await google.colab.output.renderOutput(dataTable, element);\n",
              "          const docLink = document.createElement('div');\n",
              "          docLink.innerHTML = docLinkHtml;\n",
              "          element.appendChild(docLink);\n",
              "        }\n",
              "      </script>\n",
              "    </div>\n",
              "  </div>\n",
              "  "
            ]
          },
          "metadata": {},
          "execution_count": 63
        }
      ]
    },
    {
      "cell_type": "markdown",
      "source": [
        "Overfitting is occuring, in this case one must considering using K-fold cross validation to get a more accurate result"
      ],
      "metadata": {
        "id": "Ei3lSEXr6E5n"
      }
    },
    {
      "cell_type": "markdown",
      "source": [
        "##KNN: Hyperparam. tuning and Kfold cross val."
      ],
      "metadata": {
        "id": "FDrg9w4slz-L"
      }
    },
    {
      "cell_type": "code",
      "source": [
        "from sklearn.neighbors import KNeighborsClassifier\n",
        "neigh = KNeighborsClassifier(n_neighbors=3)\n",
        "neigh.fit(vec_train, label_train)"
      ],
      "metadata": {
        "colab": {
          "base_uri": "https://localhost:8080/"
        },
        "id": "Kb1sHaj0CmWC",
        "outputId": "7e9a9bd1-f2e3-4ba0-f64a-72d36213f895"
      },
      "execution_count": 78,
      "outputs": [
        {
          "output_type": "execute_result",
          "data": {
            "text/plain": [
              "KNeighborsClassifier(n_neighbors=3)"
            ]
          },
          "metadata": {},
          "execution_count": 78
        }
      ]
    },
    {
      "cell_type": "code",
      "source": [
        "param_distributions_knn = { 'n_neighbors': uniform(1, 10) }\n",
        "rnd_search_cv_knn= RandomizedSearchCV(neigh, param_distributions_knn, n_iter=20, verbose=2, cv=3)"
      ],
      "metadata": {
        "id": "3BmzLvicEwuP"
      },
      "execution_count": 79,
      "outputs": []
    },
    {
      "cell_type": "code",
      "source": [
        "from sklearn.model_selection import GridSearchCV\n",
        "k_range=list(range(1,31))\n",
        "print(k_range)\n",
        "param_grid=dict(n_neighbors=k_range)\n",
        "knn=KNeighborsClassifier()  #Important to form an instance\n",
        "grid = GridSearchCV(knn, param_grid, cv=10, scoring='accuracy')\n",
        "grid.fit(vec_train, label_train)"
      ],
      "metadata": {
        "colab": {
          "base_uri": "https://localhost:8080/"
        },
        "id": "8wwiUj71Jfcq",
        "outputId": "66bcf0a2-28a8-449c-af1d-0951fbf627ff"
      },
      "execution_count": 80,
      "outputs": [
        {
          "output_type": "stream",
          "name": "stdout",
          "text": [
            "[1, 2, 3, 4, 5, 6, 7, 8, 9, 10, 11, 12, 13, 14, 15, 16, 17, 18, 19, 20, 21, 22, 23, 24, 25, 26, 27, 28, 29, 30]\n"
          ]
        },
        {
          "output_type": "execute_result",
          "data": {
            "text/plain": [
              "GridSearchCV(cv=10, estimator=KNeighborsClassifier(),\n",
              "             param_grid={'n_neighbors': [1, 2, 3, 4, 5, 6, 7, 8, 9, 10, 11, 12,\n",
              "                                         13, 14, 15, 16, 17, 18, 19, 20, 21, 22,\n",
              "                                         23, 24, 25, 26, 27, 28, 29, 30]},\n",
              "             scoring='accuracy')"
            ]
          },
          "metadata": {},
          "execution_count": 80
        }
      ]
    },
    {
      "cell_type": "code",
      "source": [
        "print(grid.best_score_)\n",
        "print(grid.best_params_)\n",
        "print(grid.best_estimator_)"
      ],
      "metadata": {
        "colab": {
          "base_uri": "https://localhost:8080/"
        },
        "id": "6Z4OZoNhLEov",
        "outputId": "61c50350-6f2c-44ba-d6a4-20aec03761da"
      },
      "execution_count": 81,
      "outputs": [
        {
          "output_type": "stream",
          "name": "stdout",
          "text": [
            "1.0\n",
            "{'n_neighbors': 1}\n",
            "KNeighborsClassifier(n_neighbors=1)\n"
          ]
        }
      ]
    },
    {
      "cell_type": "code",
      "source": [
        "neigh = KNeighborsClassifier(n_neighbors=10)\n",
        "neigh.fit(vec_train, label_train)"
      ],
      "metadata": {
        "colab": {
          "base_uri": "https://localhost:8080/"
        },
        "id": "lnKJbw5gLTK8",
        "outputId": "15e3bc0f-1482-4e45-cc1b-d0ea4e84b194"
      },
      "execution_count": 82,
      "outputs": [
        {
          "output_type": "execute_result",
          "data": {
            "text/plain": [
              "KNeighborsClassifier(n_neighbors=10)"
            ]
          },
          "metadata": {},
          "execution_count": 82
        }
      ]
    },
    {
      "cell_type": "markdown",
      "metadata": {
        "id": "5fxEbxxx_OIC"
      },
      "source": [
        "### Evaluation of KNN"
      ]
    },
    {
      "cell_type": "code",
      "execution_count": 83,
      "metadata": {
        "colab": {
          "base_uri": "https://localhost:8080/",
          "height": 297
        },
        "id": "qMV3uN-T_OIC",
        "outputId": "99d4f858-2b61-4047-dd69-b96c9be0112f"
      },
      "outputs": [
        {
          "output_type": "stream",
          "name": "stdout",
          "text": [
            "Accuracy: 96.33%\n"
          ]
        },
        {
          "output_type": "display_data",
          "data": {
            "text/plain": [
              "<Figure size 432x288 with 2 Axes>"
            ],
            "image/png": "[encoded data removed]"
          },
          "metadata": {
            "needs_background": "light"
          }
        }
      ],
      "source": [
        "# test set evaluation\n",
        "prediction = neigh.predict(vec_test)\n",
        "# visualization\n",
        "cmat = metrics.confusion_matrix(prediction,label_test)\n",
        "s = sns.heatmap(cmat,annot=True,xticklabels=labels, yticklabels=labels)\n",
        "s.set(xlabel='Predicted', ylabel='Actual')\n",
        "acc = cmat.trace() / cmat.sum()\n",
        "print('Accuracy: {0:5.2f}%'.format(acc*100))"
      ]
    },
    {
      "cell_type": "code",
      "source": [
        "k_range = list(range(1, 25))\n",
        "k_scores = []\n",
        "for k in k_range:\n",
        "    knn = KNeighborsClassifier(n_neighbors=k)\n",
        "    scores = cross_val_score(knn, vec_train, label_train, cv=10, scoring='accuracy')\n",
        "    k_scores.append(scores.mean())\n",
        "print(k_scores)\n"
      ],
      "metadata": {
        "id": "s0McNlpdDFDO",
        "colab": {
          "base_uri": "https://localhost:8080/",
          "height": 55
        },
        "outputId": "ed5db173-2176-489d-a101-45c0d61e70ed"
      },
      "execution_count": 87,
      "outputs": [
        {
          "output_type": "display_data",
          "data": {
            "text/plain": [
              "<IPython.core.display.Javascript object>"
            ],
            "application/javascript": [
              "\n",
              "        if (window._pyforest_update_imports_cell) { window._pyforest_update_imports_cell('import cv2\\nfrom sklearn.cluster import KMeans\\nfrom sklearn.model_selection import GridSearchCV\\nimport keras\\nfrom sklearn.preprocessing import OneHotEncoder\\nimport lightgbm as lgb\\nimport nltk\\nfrom sklearn.linear_model import LinearRegression\\nfrom sklearn.feature_extraction.text import CountVectorizer\\nfrom openpyxl import load_workbook\\nfrom sklearn.linear_model import ElasticNetCV\\nfrom sklearn.model_selection import train_test_split\\nfrom sklearn.model_selection import cross_val_score\\nfrom statsmodels.tsa.arima_model import ARIMA\\nfrom sklearn.manifold import TSNE\\nimport imutils\\nfrom sklearn.linear_model import LassoCV\\nfrom sklearn.ensemble import GradientBoostingRegressor\\nimport matplotlib as mpl\\nfrom sklearn.ensemble import GradientBoostingClassifier\\nfrom sklearn.decomposition import PCA\\nfrom sklearn.preprocessing import LabelEncoder\\nfrom sklearn.linear_model import Lasso\\nfrom sklearn.model_selection import KFold\\nfrom sklearn.preprocessing import MinMaxScaler\\nfrom sklearn.linear_model import ElasticNet\\nfrom sklearn.feature_extraction.text import TfidfVectorizer\\nfrom sklearn.preprocessing import PolynomialFeatures\\nimport sklearn\\nfrom sklearn.linear_model import LogisticRegression'); }\n",
              "    "
            ]
          },
          "metadata": {}
        },
        {
          "output_type": "display_data",
          "data": {
            "text/plain": [
              "<IPython.core.display.Javascript object>"
            ],
            "application/javascript": [
              "\n",
              "        if (window._pyforest_update_imports_cell) { window._pyforest_update_imports_cell('import cv2\\nfrom sklearn.cluster import KMeans\\nfrom sklearn.model_selection import GridSearchCV\\nimport keras\\nfrom sklearn.preprocessing import OneHotEncoder\\nimport lightgbm as lgb\\nimport nltk\\nfrom sklearn.linear_model import LinearRegression\\nfrom sklearn.feature_extraction.text import CountVectorizer\\nfrom openpyxl import load_workbook\\nfrom sklearn.linear_model import ElasticNetCV\\nfrom sklearn.model_selection import train_test_split\\nfrom sklearn.model_selection import cross_val_score\\nfrom statsmodels.tsa.arima_model import ARIMA\\nfrom sklearn.manifold import TSNE\\nimport imutils\\nfrom sklearn.linear_model import LassoCV\\nfrom sklearn.ensemble import GradientBoostingRegressor\\nimport matplotlib as mpl\\nfrom sklearn.ensemble import GradientBoostingClassifier\\nfrom sklearn.decomposition import PCA\\nfrom sklearn.preprocessing import LabelEncoder\\nfrom sklearn.linear_model import Lasso\\nfrom sklearn.model_selection import KFold\\nfrom sklearn.preprocessing import MinMaxScaler\\nfrom sklearn.linear_model import ElasticNet\\nfrom sklearn.feature_extraction.text import TfidfVectorizer\\nfrom sklearn.preprocessing import PolynomialFeatures\\nimport sklearn\\nfrom sklearn.linear_model import LogisticRegression'); }\n",
              "    "
            ]
          },
          "metadata": {}
        },
        {
          "output_type": "display_data",
          "data": {
            "text/plain": [
              "<IPython.core.display.Javascript object>"
            ],
            "application/javascript": [
              "\n",
              "        if (window._pyforest_update_imports_cell) { window._pyforest_update_imports_cell('import cv2\\nfrom sklearn.cluster import KMeans\\nfrom sklearn.model_selection import GridSearchCV\\nimport keras\\nfrom sklearn.preprocessing import OneHotEncoder\\nimport lightgbm as lgb\\nimport nltk\\nfrom sklearn.linear_model import LinearRegression\\nfrom sklearn.feature_extraction.text import CountVectorizer\\nfrom openpyxl import load_workbook\\nfrom sklearn.linear_model import ElasticNetCV\\nfrom sklearn.model_selection import train_test_split\\nfrom sklearn.model_selection import cross_val_score\\nfrom statsmodels.tsa.arima_model import ARIMA\\nfrom sklearn.manifold import TSNE\\nimport imutils\\nfrom sklearn.linear_model import LassoCV\\nfrom sklearn.ensemble import GradientBoostingRegressor\\nimport matplotlib as mpl\\nfrom sklearn.ensemble import GradientBoostingClassifier\\nfrom sklearn.decomposition import PCA\\nfrom sklearn.preprocessing import LabelEncoder\\nfrom sklearn.linear_model import Lasso\\nfrom sklearn.model_selection import KFold\\nfrom sklearn.preprocessing import MinMaxScaler\\nfrom sklearn.linear_model import ElasticNet\\nfrom sklearn.feature_extraction.text import TfidfVectorizer\\nfrom sklearn.preprocessing import PolynomialFeatures\\nimport sklearn\\nfrom sklearn.linear_model import LogisticRegression'); }\n",
              "    "
            ]
          },
          "metadata": {}
        },
        {
          "output_type": "display_data",
          "data": {
            "text/plain": [
              "<IPython.core.display.Javascript object>"
            ],
            "application/javascript": [
              "\n",
              "        if (window._pyforest_update_imports_cell) { window._pyforest_update_imports_cell('import cv2\\nfrom sklearn.cluster import KMeans\\nfrom sklearn.model_selection import GridSearchCV\\nimport keras\\nfrom sklearn.preprocessing import OneHotEncoder\\nimport lightgbm as lgb\\nimport nltk\\nfrom sklearn.linear_model import LinearRegression\\nfrom sklearn.feature_extraction.text import CountVectorizer\\nfrom openpyxl import load_workbook\\nfrom sklearn.linear_model import ElasticNetCV\\nfrom sklearn.model_selection import train_test_split\\nfrom sklearn.model_selection import cross_val_score\\nfrom statsmodels.tsa.arima_model import ARIMA\\nfrom sklearn.manifold import TSNE\\nimport imutils\\nfrom sklearn.linear_model import LassoCV\\nfrom sklearn.ensemble import GradientBoostingRegressor\\nimport matplotlib as mpl\\nfrom sklearn.ensemble import GradientBoostingClassifier\\nfrom sklearn.decomposition import PCA\\nfrom sklearn.preprocessing import LabelEncoder\\nfrom sklearn.linear_model import Lasso\\nfrom sklearn.model_selection import KFold\\nfrom sklearn.preprocessing import MinMaxScaler\\nfrom sklearn.linear_model import ElasticNet\\nfrom sklearn.feature_extraction.text import TfidfVectorizer\\nfrom sklearn.preprocessing import PolynomialFeatures\\nimport sklearn\\nfrom sklearn.linear_model import LogisticRegression'); }\n",
              "    "
            ]
          },
          "metadata": {}
        },
        {
          "output_type": "display_data",
          "data": {
            "text/plain": [
              "<IPython.core.display.Javascript object>"
            ],
            "application/javascript": [
              "\n",
              "        if (window._pyforest_update_imports_cell) { window._pyforest_update_imports_cell('import cv2\\nfrom sklearn.cluster import KMeans\\nfrom sklearn.model_selection import GridSearchCV\\nimport keras\\nfrom sklearn.preprocessing import OneHotEncoder\\nimport lightgbm as lgb\\nimport nltk\\nfrom sklearn.linear_model import LinearRegression\\nfrom sklearn.feature_extraction.text import CountVectorizer\\nfrom openpyxl import load_workbook\\nfrom sklearn.linear_model import ElasticNetCV\\nfrom sklearn.model_selection import train_test_split\\nfrom sklearn.model_selection import cross_val_score\\nfrom statsmodels.tsa.arima_model import ARIMA\\nfrom sklearn.manifold import TSNE\\nimport imutils\\nfrom sklearn.linear_model import LassoCV\\nfrom sklearn.ensemble import GradientBoostingRegressor\\nimport matplotlib as mpl\\nfrom sklearn.ensemble import GradientBoostingClassifier\\nfrom sklearn.decomposition import PCA\\nfrom sklearn.preprocessing import LabelEncoder\\nfrom sklearn.linear_model import Lasso\\nfrom sklearn.model_selection import KFold\\nfrom sklearn.preprocessing import MinMaxScaler\\nfrom sklearn.linear_model import ElasticNet\\nfrom sklearn.feature_extraction.text import TfidfVectorizer\\nfrom sklearn.preprocessing import PolynomialFeatures\\nimport sklearn\\nfrom sklearn.linear_model import LogisticRegression'); }\n",
              "    "
            ]
          },
          "metadata": {}
        },
        {
          "output_type": "display_data",
          "data": {
            "text/plain": [
              "<IPython.core.display.Javascript object>"
            ],
            "application/javascript": [
              "\n",
              "        if (window._pyforest_update_imports_cell) { window._pyforest_update_imports_cell('import cv2\\nfrom sklearn.cluster import KMeans\\nfrom sklearn.model_selection import GridSearchCV\\nimport keras\\nfrom sklearn.preprocessing import OneHotEncoder\\nimport lightgbm as lgb\\nimport nltk\\nfrom sklearn.linear_model import LinearRegression\\nfrom sklearn.feature_extraction.text import CountVectorizer\\nfrom openpyxl import load_workbook\\nfrom sklearn.linear_model import ElasticNetCV\\nfrom sklearn.model_selection import train_test_split\\nfrom sklearn.model_selection import cross_val_score\\nfrom statsmodels.tsa.arima_model import ARIMA\\nfrom sklearn.manifold import TSNE\\nimport imutils\\nfrom sklearn.linear_model import LassoCV\\nfrom sklearn.ensemble import GradientBoostingRegressor\\nimport matplotlib as mpl\\nfrom sklearn.ensemble import GradientBoostingClassifier\\nfrom sklearn.decomposition import PCA\\nfrom sklearn.preprocessing import LabelEncoder\\nfrom sklearn.linear_model import Lasso\\nfrom sklearn.model_selection import KFold\\nfrom sklearn.preprocessing import MinMaxScaler\\nfrom sklearn.linear_model import ElasticNet\\nfrom sklearn.feature_extraction.text import TfidfVectorizer\\nfrom sklearn.preprocessing import PolynomialFeatures\\nimport sklearn\\nfrom sklearn.linear_model import LogisticRegression'); }\n",
              "    "
            ]
          },
          "metadata": {}
        },
        {
          "output_type": "display_data",
          "data": {
            "text/plain": [
              "<IPython.core.display.Javascript object>"
            ],
            "application/javascript": [
              "\n",
              "        if (window._pyforest_update_imports_cell) { window._pyforest_update_imports_cell('import cv2\\nfrom sklearn.cluster import KMeans\\nfrom sklearn.model_selection import GridSearchCV\\nimport keras\\nfrom sklearn.preprocessing import OneHotEncoder\\nimport lightgbm as lgb\\nimport nltk\\nfrom sklearn.linear_model import LinearRegression\\nfrom sklearn.feature_extraction.text import CountVectorizer\\nfrom openpyxl import load_workbook\\nfrom sklearn.linear_model import ElasticNetCV\\nfrom sklearn.model_selection import train_test_split\\nfrom sklearn.model_selection import cross_val_score\\nfrom statsmodels.tsa.arima_model import ARIMA\\nfrom sklearn.manifold import TSNE\\nimport imutils\\nfrom sklearn.linear_model import LassoCV\\nfrom sklearn.ensemble import GradientBoostingRegressor\\nimport matplotlib as mpl\\nfrom sklearn.ensemble import GradientBoostingClassifier\\nfrom sklearn.decomposition import PCA\\nfrom sklearn.preprocessing import LabelEncoder\\nfrom sklearn.linear_model import Lasso\\nfrom sklearn.model_selection import KFold\\nfrom sklearn.preprocessing import MinMaxScaler\\nfrom sklearn.linear_model import ElasticNet\\nfrom sklearn.feature_extraction.text import TfidfVectorizer\\nfrom sklearn.preprocessing import PolynomialFeatures\\nimport sklearn\\nfrom sklearn.linear_model import LogisticRegression'); }\n",
              "    "
            ]
          },
          "metadata": {}
        },
        {
          "output_type": "display_data",
          "data": {
            "text/plain": [
              "<IPython.core.display.Javascript object>"
            ],
            "application/javascript": [
              "\n",
              "        if (window._pyforest_update_imports_cell) { window._pyforest_update_imports_cell('import cv2\\nfrom sklearn.cluster import KMeans\\nfrom sklearn.model_selection import GridSearchCV\\nimport keras\\nfrom sklearn.preprocessing import OneHotEncoder\\nimport lightgbm as lgb\\nimport nltk\\nfrom sklearn.linear_model import LinearRegression\\nfrom sklearn.feature_extraction.text import CountVectorizer\\nfrom openpyxl import load_workbook\\nfrom sklearn.linear_model import ElasticNetCV\\nfrom sklearn.model_selection import train_test_split\\nfrom sklearn.model_selection import cross_val_score\\nfrom statsmodels.tsa.arima_model import ARIMA\\nfrom sklearn.manifold import TSNE\\nimport imutils\\nfrom sklearn.linear_model import LassoCV\\nfrom sklearn.ensemble import GradientBoostingRegressor\\nimport matplotlib as mpl\\nfrom sklearn.ensemble import GradientBoostingClassifier\\nfrom sklearn.decomposition import PCA\\nfrom sklearn.preprocessing import LabelEncoder\\nfrom sklearn.linear_model import Lasso\\nfrom sklearn.model_selection import KFold\\nfrom sklearn.preprocessing import MinMaxScaler\\nfrom sklearn.linear_model import ElasticNet\\nfrom sklearn.feature_extraction.text import TfidfVectorizer\\nfrom sklearn.preprocessing import PolynomialFeatures\\nimport sklearn\\nfrom sklearn.linear_model import LogisticRegression'); }\n",
              "    "
            ]
          },
          "metadata": {}
        },
        {
          "output_type": "display_data",
          "data": {
            "text/plain": [
              "<IPython.core.display.Javascript object>"
            ],
            "application/javascript": [
              "\n",
              "        if (window._pyforest_update_imports_cell) { window._pyforest_update_imports_cell('import cv2\\nfrom sklearn.cluster import KMeans\\nfrom sklearn.model_selection import GridSearchCV\\nimport keras\\nfrom sklearn.preprocessing import OneHotEncoder\\nimport lightgbm as lgb\\nimport nltk\\nfrom sklearn.linear_model import LinearRegression\\nfrom sklearn.feature_extraction.text import CountVectorizer\\nfrom openpyxl import load_workbook\\nfrom sklearn.linear_model import ElasticNetCV\\nfrom sklearn.model_selection import train_test_split\\nfrom sklearn.model_selection import cross_val_score\\nfrom statsmodels.tsa.arima_model import ARIMA\\nfrom sklearn.manifold import TSNE\\nimport imutils\\nfrom sklearn.linear_model import LassoCV\\nfrom sklearn.ensemble import GradientBoostingRegressor\\nimport matplotlib as mpl\\nfrom sklearn.ensemble import GradientBoostingClassifier\\nfrom sklearn.decomposition import PCA\\nfrom sklearn.preprocessing import LabelEncoder\\nfrom sklearn.linear_model import Lasso\\nfrom sklearn.model_selection import KFold\\nfrom sklearn.preprocessing import MinMaxScaler\\nfrom sklearn.linear_model import ElasticNet\\nfrom sklearn.feature_extraction.text import TfidfVectorizer\\nfrom sklearn.preprocessing import PolynomialFeatures\\nimport sklearn\\nfrom sklearn.linear_model import LogisticRegression'); }\n",
              "    "
            ]
          },
          "metadata": {}
        },
        {
          "output_type": "display_data",
          "data": {
            "text/plain": [
              "<IPython.core.display.Javascript object>"
            ],
            "application/javascript": [
              "\n",
              "        if (window._pyforest_update_imports_cell) { window._pyforest_update_imports_cell('import cv2\\nfrom sklearn.cluster import KMeans\\nfrom sklearn.model_selection import GridSearchCV\\nimport keras\\nfrom sklearn.preprocessing import OneHotEncoder\\nimport lightgbm as lgb\\nimport nltk\\nfrom sklearn.linear_model import LinearRegression\\nfrom sklearn.feature_extraction.text import CountVectorizer\\nfrom openpyxl import load_workbook\\nfrom sklearn.linear_model import ElasticNetCV\\nfrom sklearn.model_selection import train_test_split\\nfrom sklearn.model_selection import cross_val_score\\nfrom statsmodels.tsa.arima_model import ARIMA\\nfrom sklearn.manifold import TSNE\\nimport imutils\\nfrom sklearn.linear_model import LassoCV\\nfrom sklearn.ensemble import GradientBoostingRegressor\\nimport matplotlib as mpl\\nfrom sklearn.ensemble import GradientBoostingClassifier\\nfrom sklearn.decomposition import PCA\\nfrom sklearn.preprocessing import LabelEncoder\\nfrom sklearn.linear_model import Lasso\\nfrom sklearn.model_selection import KFold\\nfrom sklearn.preprocessing import MinMaxScaler\\nfrom sklearn.linear_model import ElasticNet\\nfrom sklearn.feature_extraction.text import TfidfVectorizer\\nfrom sklearn.preprocessing import PolynomialFeatures\\nimport sklearn\\nfrom sklearn.linear_model import LogisticRegression'); }\n",
              "    "
            ]
          },
          "metadata": {}
        },
        {
          "output_type": "display_data",
          "data": {
            "text/plain": [
              "<IPython.core.display.Javascript object>"
            ],
            "application/javascript": [
              "\n",
              "        if (window._pyforest_update_imports_cell) { window._pyforest_update_imports_cell('import cv2\\nfrom sklearn.cluster import KMeans\\nfrom sklearn.model_selection import GridSearchCV\\nimport keras\\nfrom sklearn.preprocessing import OneHotEncoder\\nimport lightgbm as lgb\\nimport nltk\\nfrom sklearn.linear_model import LinearRegression\\nfrom sklearn.feature_extraction.text import CountVectorizer\\nfrom openpyxl import load_workbook\\nfrom sklearn.linear_model import ElasticNetCV\\nfrom sklearn.model_selection import train_test_split\\nfrom sklearn.model_selection import cross_val_score\\nfrom statsmodels.tsa.arima_model import ARIMA\\nfrom sklearn.manifold import TSNE\\nimport imutils\\nfrom sklearn.linear_model import LassoCV\\nfrom sklearn.ensemble import GradientBoostingRegressor\\nimport matplotlib as mpl\\nfrom sklearn.ensemble import GradientBoostingClassifier\\nfrom sklearn.decomposition import PCA\\nfrom sklearn.preprocessing import LabelEncoder\\nfrom sklearn.linear_model import Lasso\\nfrom sklearn.model_selection import KFold\\nfrom sklearn.preprocessing import MinMaxScaler\\nfrom sklearn.linear_model import ElasticNet\\nfrom sklearn.feature_extraction.text import TfidfVectorizer\\nfrom sklearn.preprocessing import PolynomialFeatures\\nimport sklearn\\nfrom sklearn.linear_model import LogisticRegression'); }\n",
              "    "
            ]
          },
          "metadata": {}
        },
        {
          "output_type": "display_data",
          "data": {
            "text/plain": [
              "<IPython.core.display.Javascript object>"
            ],
            "application/javascript": [
              "\n",
              "        if (window._pyforest_update_imports_cell) { window._pyforest_update_imports_cell('import cv2\\nfrom sklearn.cluster import KMeans\\nfrom sklearn.model_selection import GridSearchCV\\nimport keras\\nfrom sklearn.preprocessing import OneHotEncoder\\nimport lightgbm as lgb\\nimport nltk\\nfrom sklearn.linear_model import LinearRegression\\nfrom sklearn.feature_extraction.text import CountVectorizer\\nfrom openpyxl import load_workbook\\nfrom sklearn.linear_model import ElasticNetCV\\nfrom sklearn.model_selection import train_test_split\\nfrom sklearn.model_selection import cross_val_score\\nfrom statsmodels.tsa.arima_model import ARIMA\\nfrom sklearn.manifold import TSNE\\nimport imutils\\nfrom sklearn.linear_model import LassoCV\\nfrom sklearn.ensemble import GradientBoostingRegressor\\nimport matplotlib as mpl\\nfrom sklearn.ensemble import GradientBoostingClassifier\\nfrom sklearn.decomposition import PCA\\nfrom sklearn.preprocessing import LabelEncoder\\nfrom sklearn.linear_model import Lasso\\nfrom sklearn.model_selection import KFold\\nfrom sklearn.preprocessing import MinMaxScaler\\nfrom sklearn.linear_model import ElasticNet\\nfrom sklearn.feature_extraction.text import TfidfVectorizer\\nfrom sklearn.preprocessing import PolynomialFeatures\\nimport sklearn\\nfrom sklearn.linear_model import LogisticRegression'); }\n",
              "    "
            ]
          },
          "metadata": {}
        },
        {
          "output_type": "display_data",
          "data": {
            "text/plain": [
              "<IPython.core.display.Javascript object>"
            ],
            "application/javascript": [
              "\n",
              "        if (window._pyforest_update_imports_cell) { window._pyforest_update_imports_cell('import cv2\\nfrom sklearn.cluster import KMeans\\nfrom sklearn.model_selection import GridSearchCV\\nimport keras\\nfrom sklearn.preprocessing import OneHotEncoder\\nimport lightgbm as lgb\\nimport nltk\\nfrom sklearn.linear_model import LinearRegression\\nfrom sklearn.feature_extraction.text import CountVectorizer\\nfrom openpyxl import load_workbook\\nfrom sklearn.linear_model import ElasticNetCV\\nfrom sklearn.model_selection import train_test_split\\nfrom sklearn.model_selection import cross_val_score\\nfrom statsmodels.tsa.arima_model import ARIMA\\nfrom sklearn.manifold import TSNE\\nimport imutils\\nfrom sklearn.linear_model import LassoCV\\nfrom sklearn.ensemble import GradientBoostingRegressor\\nimport matplotlib as mpl\\nfrom sklearn.ensemble import GradientBoostingClassifier\\nfrom sklearn.decomposition import PCA\\nfrom sklearn.preprocessing import LabelEncoder\\nfrom sklearn.linear_model import Lasso\\nfrom sklearn.model_selection import KFold\\nfrom sklearn.preprocessing import MinMaxScaler\\nfrom sklearn.linear_model import ElasticNet\\nfrom sklearn.feature_extraction.text import TfidfVectorizer\\nfrom sklearn.preprocessing import PolynomialFeatures\\nimport sklearn\\nfrom sklearn.linear_model import LogisticRegression'); }\n",
              "    "
            ]
          },
          "metadata": {}
        },
        {
          "output_type": "display_data",
          "data": {
            "text/plain": [
              "<IPython.core.display.Javascript object>"
            ],
            "application/javascript": [
              "\n",
              "        if (window._pyforest_update_imports_cell) { window._pyforest_update_imports_cell('import cv2\\nfrom sklearn.cluster import KMeans\\nfrom sklearn.model_selection import GridSearchCV\\nimport keras\\nfrom sklearn.preprocessing import OneHotEncoder\\nimport lightgbm as lgb\\nimport nltk\\nfrom sklearn.linear_model import LinearRegression\\nfrom sklearn.feature_extraction.text import CountVectorizer\\nfrom openpyxl import load_workbook\\nfrom sklearn.linear_model import ElasticNetCV\\nfrom sklearn.model_selection import train_test_split\\nfrom sklearn.model_selection import cross_val_score\\nfrom statsmodels.tsa.arima_model import ARIMA\\nfrom sklearn.manifold import TSNE\\nimport imutils\\nfrom sklearn.linear_model import LassoCV\\nfrom sklearn.ensemble import GradientBoostingRegressor\\nimport matplotlib as mpl\\nfrom sklearn.ensemble import GradientBoostingClassifier\\nfrom sklearn.decomposition import PCA\\nfrom sklearn.preprocessing import LabelEncoder\\nfrom sklearn.linear_model import Lasso\\nfrom sklearn.model_selection import KFold\\nfrom sklearn.preprocessing import MinMaxScaler\\nfrom sklearn.linear_model import ElasticNet\\nfrom sklearn.feature_extraction.text import TfidfVectorizer\\nfrom sklearn.preprocessing import PolynomialFeatures\\nimport sklearn\\nfrom sklearn.linear_model import LogisticRegression'); }\n",
              "    "
            ]
          },
          "metadata": {}
        },
        {
          "output_type": "display_data",
          "data": {
            "text/plain": [
              "<IPython.core.display.Javascript object>"
            ],
            "application/javascript": [
              "\n",
              "        if (window._pyforest_update_imports_cell) { window._pyforest_update_imports_cell('import cv2\\nfrom sklearn.cluster import KMeans\\nfrom sklearn.model_selection import GridSearchCV\\nimport keras\\nfrom sklearn.preprocessing import OneHotEncoder\\nimport lightgbm as lgb\\nimport nltk\\nfrom sklearn.linear_model import LinearRegression\\nfrom sklearn.feature_extraction.text import CountVectorizer\\nfrom openpyxl import load_workbook\\nfrom sklearn.linear_model import ElasticNetCV\\nfrom sklearn.model_selection import train_test_split\\nfrom sklearn.model_selection import cross_val_score\\nfrom statsmodels.tsa.arima_model import ARIMA\\nfrom sklearn.manifold import TSNE\\nimport imutils\\nfrom sklearn.linear_model import LassoCV\\nfrom sklearn.ensemble import GradientBoostingRegressor\\nimport matplotlib as mpl\\nfrom sklearn.ensemble import GradientBoostingClassifier\\nfrom sklearn.decomposition import PCA\\nfrom sklearn.preprocessing import LabelEncoder\\nfrom sklearn.linear_model import Lasso\\nfrom sklearn.model_selection import KFold\\nfrom sklearn.preprocessing import MinMaxScaler\\nfrom sklearn.linear_model import ElasticNet\\nfrom sklearn.feature_extraction.text import TfidfVectorizer\\nfrom sklearn.preprocessing import PolynomialFeatures\\nimport sklearn\\nfrom sklearn.linear_model import LogisticRegression'); }\n",
              "    "
            ]
          },
          "metadata": {}
        },
        {
          "output_type": "display_data",
          "data": {
            "text/plain": [
              "<IPython.core.display.Javascript object>"
            ],
            "application/javascript": [
              "\n",
              "        if (window._pyforest_update_imports_cell) { window._pyforest_update_imports_cell('import cv2\\nfrom sklearn.cluster import KMeans\\nfrom sklearn.model_selection import GridSearchCV\\nimport keras\\nfrom sklearn.preprocessing import OneHotEncoder\\nimport lightgbm as lgb\\nimport nltk\\nfrom sklearn.linear_model import LinearRegression\\nfrom sklearn.feature_extraction.text import CountVectorizer\\nfrom openpyxl import load_workbook\\nfrom sklearn.linear_model import ElasticNetCV\\nfrom sklearn.model_selection import train_test_split\\nfrom sklearn.model_selection import cross_val_score\\nfrom statsmodels.tsa.arima_model import ARIMA\\nfrom sklearn.manifold import TSNE\\nimport imutils\\nfrom sklearn.linear_model import LassoCV\\nfrom sklearn.ensemble import GradientBoostingRegressor\\nimport matplotlib as mpl\\nfrom sklearn.ensemble import GradientBoostingClassifier\\nfrom sklearn.decomposition import PCA\\nfrom sklearn.preprocessing import LabelEncoder\\nfrom sklearn.linear_model import Lasso\\nfrom sklearn.model_selection import KFold\\nfrom sklearn.preprocessing import MinMaxScaler\\nfrom sklearn.linear_model import ElasticNet\\nfrom sklearn.feature_extraction.text import TfidfVectorizer\\nfrom sklearn.preprocessing import PolynomialFeatures\\nimport sklearn\\nfrom sklearn.linear_model import LogisticRegression'); }\n",
              "    "
            ]
          },
          "metadata": {}
        },
        {
          "output_type": "display_data",
          "data": {
            "text/plain": [
              "<IPython.core.display.Javascript object>"
            ],
            "application/javascript": [
              "\n",
              "        if (window._pyforest_update_imports_cell) { window._pyforest_update_imports_cell('import cv2\\nfrom sklearn.cluster import KMeans\\nfrom sklearn.model_selection import GridSearchCV\\nimport keras\\nfrom sklearn.preprocessing import OneHotEncoder\\nimport lightgbm as lgb\\nimport nltk\\nfrom sklearn.linear_model import LinearRegression\\nfrom sklearn.feature_extraction.text import CountVectorizer\\nfrom openpyxl import load_workbook\\nfrom sklearn.linear_model import ElasticNetCV\\nfrom sklearn.model_selection import train_test_split\\nfrom sklearn.model_selection import cross_val_score\\nfrom statsmodels.tsa.arima_model import ARIMA\\nfrom sklearn.manifold import TSNE\\nimport imutils\\nfrom sklearn.linear_model import LassoCV\\nfrom sklearn.ensemble import GradientBoostingRegressor\\nimport matplotlib as mpl\\nfrom sklearn.ensemble import GradientBoostingClassifier\\nfrom sklearn.decomposition import PCA\\nfrom sklearn.preprocessing import LabelEncoder\\nfrom sklearn.linear_model import Lasso\\nfrom sklearn.model_selection import KFold\\nfrom sklearn.preprocessing import MinMaxScaler\\nfrom sklearn.linear_model import ElasticNet\\nfrom sklearn.feature_extraction.text import TfidfVectorizer\\nfrom sklearn.preprocessing import PolynomialFeatures\\nimport sklearn\\nfrom sklearn.linear_model import LogisticRegression'); }\n",
              "    "
            ]
          },
          "metadata": {}
        },
        {
          "output_type": "display_data",
          "data": {
            "text/plain": [
              "<IPython.core.display.Javascript object>"
            ],
            "application/javascript": [
              "\n",
              "        if (window._pyforest_update_imports_cell) { window._pyforest_update_imports_cell('import cv2\\nfrom sklearn.cluster import KMeans\\nfrom sklearn.model_selection import GridSearchCV\\nimport keras\\nfrom sklearn.preprocessing import OneHotEncoder\\nimport lightgbm as lgb\\nimport nltk\\nfrom sklearn.linear_model import LinearRegression\\nfrom sklearn.feature_extraction.text import CountVectorizer\\nfrom openpyxl import load_workbook\\nfrom sklearn.linear_model import ElasticNetCV\\nfrom sklearn.model_selection import train_test_split\\nfrom sklearn.model_selection import cross_val_score\\nfrom statsmodels.tsa.arima_model import ARIMA\\nfrom sklearn.manifold import TSNE\\nimport imutils\\nfrom sklearn.linear_model import LassoCV\\nfrom sklearn.ensemble import GradientBoostingRegressor\\nimport matplotlib as mpl\\nfrom sklearn.ensemble import GradientBoostingClassifier\\nfrom sklearn.decomposition import PCA\\nfrom sklearn.preprocessing import LabelEncoder\\nfrom sklearn.linear_model import Lasso\\nfrom sklearn.model_selection import KFold\\nfrom sklearn.preprocessing import MinMaxScaler\\nfrom sklearn.linear_model import ElasticNet\\nfrom sklearn.feature_extraction.text import TfidfVectorizer\\nfrom sklearn.preprocessing import PolynomialFeatures\\nimport sklearn\\nfrom sklearn.linear_model import LogisticRegression'); }\n",
              "    "
            ]
          },
          "metadata": {}
        },
        {
          "output_type": "display_data",
          "data": {
            "text/plain": [
              "<IPython.core.display.Javascript object>"
            ],
            "application/javascript": [
              "\n",
              "        if (window._pyforest_update_imports_cell) { window._pyforest_update_imports_cell('import cv2\\nfrom sklearn.cluster import KMeans\\nfrom sklearn.model_selection import GridSearchCV\\nimport keras\\nfrom sklearn.preprocessing import OneHotEncoder\\nimport lightgbm as lgb\\nimport nltk\\nfrom sklearn.linear_model import LinearRegression\\nfrom sklearn.feature_extraction.text import CountVectorizer\\nfrom openpyxl import load_workbook\\nfrom sklearn.linear_model import ElasticNetCV\\nfrom sklearn.model_selection import train_test_split\\nfrom sklearn.model_selection import cross_val_score\\nfrom statsmodels.tsa.arima_model import ARIMA\\nfrom sklearn.manifold import TSNE\\nimport imutils\\nfrom sklearn.linear_model import LassoCV\\nfrom sklearn.ensemble import GradientBoostingRegressor\\nimport matplotlib as mpl\\nfrom sklearn.ensemble import GradientBoostingClassifier\\nfrom sklearn.decomposition import PCA\\nfrom sklearn.preprocessing import LabelEncoder\\nfrom sklearn.linear_model import Lasso\\nfrom sklearn.model_selection import KFold\\nfrom sklearn.preprocessing import MinMaxScaler\\nfrom sklearn.linear_model import ElasticNet\\nfrom sklearn.feature_extraction.text import TfidfVectorizer\\nfrom sklearn.preprocessing import PolynomialFeatures\\nimport sklearn\\nfrom sklearn.linear_model import LogisticRegression'); }\n",
              "    "
            ]
          },
          "metadata": {}
        },
        {
          "output_type": "display_data",
          "data": {
            "text/plain": [
              "<IPython.core.display.Javascript object>"
            ],
            "application/javascript": [
              "\n",
              "        if (window._pyforest_update_imports_cell) { window._pyforest_update_imports_cell('import cv2\\nfrom sklearn.cluster import KMeans\\nfrom sklearn.model_selection import GridSearchCV\\nimport keras\\nfrom sklearn.preprocessing import OneHotEncoder\\nimport lightgbm as lgb\\nimport nltk\\nfrom sklearn.linear_model import LinearRegression\\nfrom sklearn.feature_extraction.text import CountVectorizer\\nfrom openpyxl import load_workbook\\nfrom sklearn.linear_model import ElasticNetCV\\nfrom sklearn.model_selection import train_test_split\\nfrom sklearn.model_selection import cross_val_score\\nfrom statsmodels.tsa.arima_model import ARIMA\\nfrom sklearn.manifold import TSNE\\nimport imutils\\nfrom sklearn.linear_model import LassoCV\\nfrom sklearn.ensemble import GradientBoostingRegressor\\nimport matplotlib as mpl\\nfrom sklearn.ensemble import GradientBoostingClassifier\\nfrom sklearn.decomposition import PCA\\nfrom sklearn.preprocessing import LabelEncoder\\nfrom sklearn.linear_model import Lasso\\nfrom sklearn.model_selection import KFold\\nfrom sklearn.preprocessing import MinMaxScaler\\nfrom sklearn.linear_model import ElasticNet\\nfrom sklearn.feature_extraction.text import TfidfVectorizer\\nfrom sklearn.preprocessing import PolynomialFeatures\\nimport sklearn\\nfrom sklearn.linear_model import LogisticRegression'); }\n",
              "    "
            ]
          },
          "metadata": {}
        },
        {
          "output_type": "display_data",
          "data": {
            "text/plain": [
              "<IPython.core.display.Javascript object>"
            ],
            "application/javascript": [
              "\n",
              "        if (window._pyforest_update_imports_cell) { window._pyforest_update_imports_cell('import cv2\\nfrom sklearn.cluster import KMeans\\nfrom sklearn.model_selection import GridSearchCV\\nimport keras\\nfrom sklearn.preprocessing import OneHotEncoder\\nimport lightgbm as lgb\\nimport nltk\\nfrom sklearn.linear_model import LinearRegression\\nfrom sklearn.feature_extraction.text import CountVectorizer\\nfrom openpyxl import load_workbook\\nfrom sklearn.linear_model import ElasticNetCV\\nfrom sklearn.model_selection import train_test_split\\nfrom sklearn.model_selection import cross_val_score\\nfrom statsmodels.tsa.arima_model import ARIMA\\nfrom sklearn.manifold import TSNE\\nimport imutils\\nfrom sklearn.linear_model import LassoCV\\nfrom sklearn.ensemble import GradientBoostingRegressor\\nimport matplotlib as mpl\\nfrom sklearn.ensemble import GradientBoostingClassifier\\nfrom sklearn.decomposition import PCA\\nfrom sklearn.preprocessing import LabelEncoder\\nfrom sklearn.linear_model import Lasso\\nfrom sklearn.model_selection import KFold\\nfrom sklearn.preprocessing import MinMaxScaler\\nfrom sklearn.linear_model import ElasticNet\\nfrom sklearn.feature_extraction.text import TfidfVectorizer\\nfrom sklearn.preprocessing import PolynomialFeatures\\nimport sklearn\\nfrom sklearn.linear_model import LogisticRegression'); }\n",
              "    "
            ]
          },
          "metadata": {}
        },
        {
          "output_type": "display_data",
          "data": {
            "text/plain": [
              "<IPython.core.display.Javascript object>"
            ],
            "application/javascript": [
              "\n",
              "        if (window._pyforest_update_imports_cell) { window._pyforest_update_imports_cell('import cv2\\nfrom sklearn.cluster import KMeans\\nfrom sklearn.model_selection import GridSearchCV\\nimport keras\\nfrom sklearn.preprocessing import OneHotEncoder\\nimport lightgbm as lgb\\nimport nltk\\nfrom sklearn.linear_model import LinearRegression\\nfrom sklearn.feature_extraction.text import CountVectorizer\\nfrom openpyxl import load_workbook\\nfrom sklearn.linear_model import ElasticNetCV\\nfrom sklearn.model_selection import train_test_split\\nfrom sklearn.model_selection import cross_val_score\\nfrom statsmodels.tsa.arima_model import ARIMA\\nfrom sklearn.manifold import TSNE\\nimport imutils\\nfrom sklearn.linear_model import LassoCV\\nfrom sklearn.ensemble import GradientBoostingRegressor\\nimport matplotlib as mpl\\nfrom sklearn.ensemble import GradientBoostingClassifier\\nfrom sklearn.decomposition import PCA\\nfrom sklearn.preprocessing import LabelEncoder\\nfrom sklearn.linear_model import Lasso\\nfrom sklearn.model_selection import KFold\\nfrom sklearn.preprocessing import MinMaxScaler\\nfrom sklearn.linear_model import ElasticNet\\nfrom sklearn.feature_extraction.text import TfidfVectorizer\\nfrom sklearn.preprocessing import PolynomialFeatures\\nimport sklearn\\nfrom sklearn.linear_model import LogisticRegression'); }\n",
              "    "
            ]
          },
          "metadata": {}
        },
        {
          "output_type": "display_data",
          "data": {
            "text/plain": [
              "<IPython.core.display.Javascript object>"
            ],
            "application/javascript": [
              "\n",
              "        if (window._pyforest_update_imports_cell) { window._pyforest_update_imports_cell('import cv2\\nfrom sklearn.cluster import KMeans\\nfrom sklearn.model_selection import GridSearchCV\\nimport keras\\nfrom sklearn.preprocessing import OneHotEncoder\\nimport lightgbm as lgb\\nimport nltk\\nfrom sklearn.linear_model import LinearRegression\\nfrom sklearn.feature_extraction.text import CountVectorizer\\nfrom openpyxl import load_workbook\\nfrom sklearn.linear_model import ElasticNetCV\\nfrom sklearn.model_selection import train_test_split\\nfrom sklearn.model_selection import cross_val_score\\nfrom statsmodels.tsa.arima_model import ARIMA\\nfrom sklearn.manifold import TSNE\\nimport imutils\\nfrom sklearn.linear_model import LassoCV\\nfrom sklearn.ensemble import GradientBoostingRegressor\\nimport matplotlib as mpl\\nfrom sklearn.ensemble import GradientBoostingClassifier\\nfrom sklearn.decomposition import PCA\\nfrom sklearn.preprocessing import LabelEncoder\\nfrom sklearn.linear_model import Lasso\\nfrom sklearn.model_selection import KFold\\nfrom sklearn.preprocessing import MinMaxScaler\\nfrom sklearn.linear_model import ElasticNet\\nfrom sklearn.feature_extraction.text import TfidfVectorizer\\nfrom sklearn.preprocessing import PolynomialFeatures\\nimport sklearn\\nfrom sklearn.linear_model import LogisticRegression'); }\n",
              "    "
            ]
          },
          "metadata": {}
        },
        {
          "output_type": "display_data",
          "data": {
            "text/plain": [
              "<IPython.core.display.Javascript object>"
            ],
            "application/javascript": [
              "\n",
              "        if (window._pyforest_update_imports_cell) { window._pyforest_update_imports_cell('import cv2\\nfrom sklearn.cluster import KMeans\\nfrom sklearn.model_selection import GridSearchCV\\nimport keras\\nfrom sklearn.preprocessing import OneHotEncoder\\nimport lightgbm as lgb\\nimport nltk\\nfrom sklearn.linear_model import LinearRegression\\nfrom sklearn.feature_extraction.text import CountVectorizer\\nfrom openpyxl import load_workbook\\nfrom sklearn.linear_model import ElasticNetCV\\nfrom sklearn.model_selection import train_test_split\\nfrom sklearn.model_selection import cross_val_score\\nfrom statsmodels.tsa.arima_model import ARIMA\\nfrom sklearn.manifold import TSNE\\nimport imutils\\nfrom sklearn.linear_model import LassoCV\\nfrom sklearn.ensemble import GradientBoostingRegressor\\nimport matplotlib as mpl\\nfrom sklearn.ensemble import GradientBoostingClassifier\\nfrom sklearn.decomposition import PCA\\nfrom sklearn.preprocessing import LabelEncoder\\nfrom sklearn.linear_model import Lasso\\nfrom sklearn.model_selection import KFold\\nfrom sklearn.preprocessing import MinMaxScaler\\nfrom sklearn.linear_model import ElasticNet\\nfrom sklearn.feature_extraction.text import TfidfVectorizer\\nfrom sklearn.preprocessing import PolynomialFeatures\\nimport sklearn\\nfrom sklearn.linear_model import LogisticRegression'); }\n",
              "    "
            ]
          },
          "metadata": {}
        },
        {
          "output_type": "stream",
          "name": "stdout",
          "text": [
            "[1.0, 1.0, 1.0, 1.0, 1.0, 1.0, 0.9963302752293579, 0.9963302752293579, 0.9935779816513761, 0.9935779816513761, 0.9935779816513761, 0.9917431192660551, 0.9917431192660551, 0.9880733944954129, 0.9871559633027523, 0.9871559633027523, 0.9871559633027523, 0.9889908256880734, 0.9880733944954129, 0.9880733944954129, 0.9871559633027523, 0.9871559633027523, 0.9871559633027523, 0.9871559633027523]\n"
          ]
        }
      ]
    },
    {
      "cell_type": "code",
      "source": [
        "mean(k_scores)"
      ],
      "metadata": {
        "colab": {
          "base_uri": "https://localhost:8080/"
        },
        "id": "SRKOVub-2iPI",
        "outputId": "0a06548b-49ff-46ee-e6e9-8ce304a4e24d"
      },
      "execution_count": 91,
      "outputs": [
        {
          "output_type": "execute_result",
          "data": {
            "text/plain": [
              "0.9925076452599388"
            ]
          },
          "metadata": {},
          "execution_count": 91
        }
      ]
    },
    {
      "cell_type": "markdown",
      "source": [
        "## Based on the Lazypredictor values it seems like models like RidgeClassifiers and LDA might be better and they won't need much tuning."
      ],
      "metadata": {
        "id": "H81xZMQ7dvOE"
      }
    },
    {
      "cell_type": "markdown",
      "source": [
        "##RidgeClassifierCV"
      ],
      "metadata": {
        "id": "q-Be0w0--zA5"
      }
    },
    {
      "cell_type": "code",
      "source": [
        "clf_rid = RidgeClassifierCV().fit(vec_train, label_train)"
      ],
      "metadata": {
        "id": "RQDI8rTW-O8i"
      },
      "execution_count": 93,
      "outputs": []
    },
    {
      "cell_type": "markdown",
      "source": [
        "# Evaluation of RidgeClassifierCV"
      ],
      "metadata": {
        "id": "VDEYw8Ql_OrM"
      }
    },
    {
      "cell_type": "code",
      "source": [
        "# test set evaluation\n",
        "prediction = clf_rid.predict(vec_test)\n",
        "# visualization\n",
        "cmat = metrics.confusion_matrix(prediction,label_test)\n",
        "s = sns.heatmap(cmat,annot=True,xticklabels=labels, yticklabels=labels)\n",
        "s.set(xlabel='Predicted', ylabel='Actual')\n",
        "acc = cmat.trace() / cmat.sum()\n",
        "print('Accuracy: {0:5.2f}%'.format(acc*100))"
      ],
      "metadata": {
        "colab": {
          "base_uri": "https://localhost:8080/",
          "height": 297
        },
        "id": "4F_GgTcs_Cxv",
        "outputId": "e14906a8-f02b-4ff9-a2cd-bd730c630545"
      },
      "execution_count": 94,
      "outputs": [
        {
          "output_type": "stream",
          "name": "stdout",
          "text": [
            "Accuracy: 92.65%\n"
          ]
        },
        {
          "output_type": "display_data",
          "data": {
            "text/plain": [
              "<Figure size 432x288 with 2 Axes>"
            ],
            "image/png": "[encoded data removed]"
          },
          "metadata": {
            "needs_background": "light"
          }
        }
      ]
    },
    {
      "cell_type": "markdown",
      "source": [
        "##LDA"
      ],
      "metadata": {
        "id": "wsJ56z8Tc4i_"
      }
    },
    {
      "cell_type": "code",
      "source": [
        "from sklearn.discriminant_analysis import LinearDiscriminantAnalysis"
      ],
      "metadata": {
        "id": "vLwAJ8Dr_LCF"
      },
      "execution_count": 104,
      "outputs": []
    },
    {
      "cell_type": "code",
      "source": [
        "clf_LDA = LinearDiscriminantAnalysis()\n",
        "clf_LDA.fit(vec_train, label_train)"
      ],
      "metadata": {
        "colab": {
          "base_uri": "https://localhost:8080/"
        },
        "id": "qg7pYCyiZjNM",
        "outputId": "9fcd7b84-bcbe-43e5-f954-876b0dd86efa"
      },
      "execution_count": 105,
      "outputs": [
        {
          "output_type": "execute_result",
          "data": {
            "text/plain": [
              "LinearDiscriminantAnalysis()"
            ]
          },
          "metadata": {},
          "execution_count": 105
        }
      ]
    },
    {
      "cell_type": "code",
      "source": [
        "# test set evaluation\n",
        "prediction = clf_LDA.predict(vec_test)\n",
        "# visualization\n",
        "cmat = metrics.confusion_matrix(prediction,label_test)\n",
        "s = sns.heatmap(cmat,annot=True,xticklabels=labels, yticklabels=labels)\n",
        "s.set(xlabel='Predicted', ylabel='Actual')\n",
        "acc = cmat.trace() / cmat.sum()\n",
        "print('Accuracy: {0:5.2f}%'.format(acc*100))"
      ],
      "metadata": {
        "colab": {
          "base_uri": "https://localhost:8080/",
          "height": 297
        },
        "id": "enKp8NRYZs5Z",
        "outputId": "30c0e82d-5b2d-46d8-c4a2-0a5fd180a9b6"
      },
      "execution_count": 106,
      "outputs": [
        {
          "output_type": "stream",
          "name": "stdout",
          "text": [
            "Accuracy: 100.00%\n"
          ]
        },
        {
          "output_type": "display_data",
          "data": {
            "text/plain": [
              "<Figure size 432x288 with 2 Axes>"
            ],
            "image/png": "[encoded data removed]"
          },
          "metadata": {
            "needs_background": "light"
          }
        }
      ]
    },
    {
      "cell_type": "markdown",
      "source": [
        "# LDA Evaluation\n"
      ],
      "metadata": {
        "id": "WYpTlLrRcnWk"
      }
    },
    {
      "cell_type": "markdown",
      "source": [
        "##Evaluation on test"
      ],
      "metadata": {
        "id": "ZH91-IFteEMy"
      }
    },
    {
      "cell_type": "code",
      "source": [
        "from sklearn.model_selection import RepeatedStratifiedKFold\n",
        "cv = RepeatedStratifiedKFold(n_splits=30, n_repeats=3, random_state=1)\n",
        "from numpy import mean\n",
        "from numpy import std\n",
        "\n",
        "scores = cross_val_score(clf_LDA, vec_test, label_test , scoring='accuracy', cv=cv, n_jobs=-1)\n",
        "# summarize result\n",
        "print('Mean Accuracy: %.3f (%.3f)' % (mean(scores), std(scores)))"
      ],
      "metadata": {
        "colab": {
          "base_uri": "https://localhost:8080/",
          "height": 35
        },
        "id": "UVc0Swu3Zw5e",
        "outputId": "fc35ae45-7b74-4fc6-f64b-1d043dc31209"
      },
      "execution_count": 118,
      "outputs": [
        {
          "output_type": "display_data",
          "data": {
            "text/plain": [
              "<IPython.core.display.Javascript object>"
            ],
            "application/javascript": [
              "\n",
              "        if (window._pyforest_update_imports_cell) { window._pyforest_update_imports_cell('import cv2\\nfrom sklearn.cluster import KMeans\\nimport textblob\\nimport pydot\\nimport plotly.express as px\\nfrom sklearn.model_selection import GridSearchCV\\nimport keras\\nimport gensim\\nfrom sklearn.preprocessing import OneHotEncoder\\nimport tensorflow as tf\\nimport lightgbm as lgb\\nimport pickle\\nimport nltk\\nfrom sklearn.linear_model import LinearRegression\\nfrom sklearn.feature_extraction.text import CountVectorizer\\nfrom openpyxl import load_workbook\\nfrom sklearn.linear_model import ElasticNetCV\\nfrom sklearn.model_selection import train_test_split\\nfrom sklearn.model_selection import cross_val_score\\nfrom statsmodels.tsa.arima_model import ARIMA\\nimport plotly.graph_objs as go\\nfrom sklearn.manifold import TSNE\\nfrom xlrd import open_workbook\\nimport imutils\\nfrom sklearn.linear_model import LassoCV\\nimport torch\\nimport re\\nfrom sklearn.ensemble import GradientBoostingRegressor\\nimport matplotlib as mpl\\nfrom sklearn.ensemble import GradientBoostingClassifier\\nimport pandas as pd\\nfrom sklearn.decomposition import PCA\\nfrom sklearn.preprocessing import LabelEncoder\\nfrom sklearn.linear_model import Lasso\\nimport glob\\nimport altair as alt\\nfrom sklearn.model_selection import KFold\\nfrom sklearn.preprocessing import MinMaxScaler\\nfrom sklearn.linear_model import ElasticNet\\nimport skimage\\nimport plotly as py\\nfrom sklearn.preprocessing import PolynomialFeatures\\nfrom sklearn.feature_extraction.text import TfidfVectorizer\\nimport sklearn\\nfrom sklearn.linear_model import LogisticRegression'); }\n",
              "    "
            ]
          },
          "metadata": {}
        },
        {
          "output_type": "stream",
          "name": "stdout",
          "text": [
            "Mean Accuracy: 1.000 (0.000)\n"
          ]
        }
      ]
    },
    {
      "cell_type": "markdown",
      "source": [
        "##Evaluation on train"
      ],
      "metadata": {
        "id": "EsbNpg-deJT8"
      }
    },
    {
      "cell_type": "code",
      "source": [
        "from sklearn.model_selection import RepeatedStratifiedKFold\n",
        "cv = RepeatedStratifiedKFold(n_splits=30, n_repeats=3, random_state=1)\n",
        "from numpy import mean\n",
        "from numpy import std\n",
        "\n",
        "scores = cross_val_score(clf_LDA, vec_train, label_train , scoring='accuracy', cv=cv, n_jobs=-1)\n",
        "# summarize result\n",
        "print('Mean Accuracy: %.3f (%.3f)' % (mean(scores), std(scores)))"
      ],
      "metadata": {
        "colab": {
          "base_uri": "https://localhost:8080/",
          "height": 35
        },
        "id": "N5CQqQcgaWUH",
        "outputId": "e0b23af7-48ed-4fe3-c46c-7461faaa380d"
      },
      "execution_count": 119,
      "outputs": [
        {
          "output_type": "display_data",
          "data": {
            "text/plain": [
              "<IPython.core.display.Javascript object>"
            ],
            "application/javascript": [
              "\n",
              "        if (window._pyforest_update_imports_cell) { window._pyforest_update_imports_cell('import cv2\\nfrom sklearn.cluster import KMeans\\nimport textblob\\nimport pydot\\nimport plotly.express as px\\nfrom sklearn.model_selection import GridSearchCV\\nimport keras\\nimport gensim\\nfrom sklearn.preprocessing import OneHotEncoder\\nimport tensorflow as tf\\nimport lightgbm as lgb\\nimport pickle\\nimport nltk\\nfrom sklearn.linear_model import LinearRegression\\nfrom sklearn.feature_extraction.text import CountVectorizer\\nfrom openpyxl import load_workbook\\nfrom sklearn.linear_model import ElasticNetCV\\nfrom sklearn.model_selection import train_test_split\\nfrom sklearn.model_selection import cross_val_score\\nfrom statsmodels.tsa.arima_model import ARIMA\\nimport plotly.graph_objs as go\\nfrom sklearn.manifold import TSNE\\nfrom xlrd import open_workbook\\nimport imutils\\nfrom sklearn.linear_model import LassoCV\\nimport torch\\nimport re\\nfrom sklearn.ensemble import GradientBoostingRegressor\\nimport matplotlib as mpl\\nfrom sklearn.ensemble import GradientBoostingClassifier\\nimport pandas as pd\\nfrom sklearn.decomposition import PCA\\nfrom sklearn.preprocessing import LabelEncoder\\nfrom sklearn.linear_model import Lasso\\nimport glob\\nimport altair as alt\\nfrom sklearn.model_selection import KFold\\nfrom sklearn.preprocessing import MinMaxScaler\\nfrom sklearn.linear_model import ElasticNet\\nimport skimage\\nimport plotly as py\\nfrom sklearn.preprocessing import PolynomialFeatures\\nfrom sklearn.feature_extraction.text import TfidfVectorizer\\nimport sklearn\\nfrom sklearn.linear_model import LogisticRegression'); }\n",
              "    "
            ]
          },
          "metadata": {}
        },
        {
          "output_type": "stream",
          "name": "stdout",
          "text": [
            "Mean Accuracy: 0.991 (0.014)\n"
          ]
        }
      ]
    },
    {
      "cell_type": "markdown",
      "source": [
        "Interesting that runnning the K-fold cross validation we get a less accuracte model on the training data then the test data. This might be that the test data is considerable smaller than the test data.|"
      ],
      "metadata": {
        "id": "lBICHKWCdQAm"
      }
    },
    {
      "cell_type": "markdown",
      "source": [
        "## Why LDA performs so well?"
      ],
      "metadata": {
        "id": "rIzUB32UgPzC"
      }
    },
    {
      "cell_type": "markdown",
      "source": [
        "LDA projections maximize the distances between different classes, it does this by maximizing the component class axes for class seperation. In other words, it gets a more seperate distributions between the classes on that axes. "
      ],
      "metadata": {
        "id": "Yp4Gh8ZvgP3u"
      }
    },
    {
      "cell_type": "code",
      "source": [],
      "metadata": {
        "id": "anNXlooCdki2"
      },
      "execution_count": null,
      "outputs": []
    }
  ],
  "metadata": {
    "kernelspec": {
      "display_name": "Python 3",
      "language": "python",
      "name": "python3"
    },
    "language_info": {
      "codemirror_mode": {
        "name": "ipython",
        "version": 3
      },
      "file_extension": ".py",
      "mimetype": "text/x-python",
      "name": "python",
      "nbconvert_exporter": "python",
      "pygments_lexer": "ipython3",
      "version": "3.8.5"
    },
    "colab": {
      "provenance": []
    },
    "accelerator": "GPU",
    "gpuClass": "standard"
  },
  "nbformat": 4,
  "nbformat_minor": 0
}