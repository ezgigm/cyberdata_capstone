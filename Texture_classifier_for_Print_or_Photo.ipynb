{
  "cells": [
    {
      "cell_type": "code",
      "source": [
        "from google.colab import drive\n",
        "drive.mount('/content/drive/')"
      ],
      "metadata": {
        "colab": {
          "base_uri": "https://localhost:8080/"
        },
        "id": "iCCpthoT_54b",
        "outputId": "f4e98790-a6f7-4adb-df5d-ab2fcf980f92"
      },
      "execution_count": 1,
      "outputs": [
        {
          "output_type": "stream",
          "name": "stdout",
          "text": [
            "Mounted at /content/drive/\n"
          ]
        }
      ]
    },
    {
      "cell_type": "code",
      "source": [
        "!pip install pyforest"
      ],
      "metadata": {
        "colab": {
          "base_uri": "https://localhost:8080/"
        },
        "id": "tGaSLddOq0Nl",
        "outputId": "f46e4813-577e-4406-ec5a-afe75cb316bb"
      },
      "execution_count": 2,
      "outputs": [
        {
          "output_type": "stream",
          "name": "stdout",
          "text": [
            "Looking in indexes: https://pypi.org/simple, https://us-python.pkg.dev/colab-wheels/public/simple/\n",
            "Collecting pyforest\n",
            "  Downloading pyforest-1.1.0.tar.gz (15 kB)\n",
            "Building wheels for collected packages: pyforest\n",
            "  Building wheel for pyforest (setup.py) ... \u001b[?25l\u001b[?25hdone\n",
            "  Created wheel for pyforest: filename=pyforest-1.1.0-py2.py3-none-any.whl size=14607 sha256=2666f351dd95ce3e2d7d49ac2ae83061f26dd0e0f0d2968534fa94d95c709368\n",
            "  Stored in directory: /root/.cache/pip/wheels/21/2d/19/8b5488f0caea6d892333413745640532d40d70e6b5351d7633\n",
            "Successfully built pyforest\n",
            "Installing collected packages: pyforest\n",
            "Successfully installed pyforest-1.1.0\n"
          ]
        }
      ]
    },
    {
      "cell_type": "code",
      "source": [
        "pip install lazypredict"
      ],
      "metadata": {
        "colab": {
          "base_uri": "https://localhost:8080/"
        },
        "id": "MHhOkJrvrM65",
        "outputId": "83b42766-4687-4153-8a2c-1b677d31c7aa"
      },
      "execution_count": 3,
      "outputs": [
        {
          "output_type": "stream",
          "name": "stdout",
          "text": [
            "Looking in indexes: https://pypi.org/simple, https://us-python.pkg.dev/colab-wheels/public/simple/\n",
            "Collecting lazypredict\n",
            "  Downloading lazypredict-0.2.12-py2.py3-none-any.whl (12 kB)\n",
            "Requirement already satisfied: xgboost in /usr/local/lib/python3.8/dist-packages (from lazypredict) (0.90)\n",
            "Requirement already satisfied: lightgbm in /usr/local/lib/python3.8/dist-packages (from lazypredict) (2.2.3)\n",
            "Requirement already satisfied: scikit-learn in /usr/local/lib/python3.8/dist-packages (from lazypredict) (1.0.2)\n",
            "Requirement already satisfied: pandas in /usr/local/lib/python3.8/dist-packages (from lazypredict) (1.3.5)\n",
            "Requirement already satisfied: joblib in /usr/local/lib/python3.8/dist-packages (from lazypredict) (1.2.0)\n",
            "Requirement already satisfied: click in /usr/local/lib/python3.8/dist-packages (from lazypredict) (7.1.2)\n",
            "Requirement already satisfied: tqdm in /usr/local/lib/python3.8/dist-packages (from lazypredict) (4.64.1)\n",
            "Requirement already satisfied: numpy in /usr/local/lib/python3.8/dist-packages (from lightgbm->lazypredict) (1.21.6)\n",
            "Requirement already satisfied: scipy in /usr/local/lib/python3.8/dist-packages (from lightgbm->lazypredict) (1.7.3)\n",
            "Requirement already satisfied: python-dateutil>=2.7.3 in /usr/local/lib/python3.8/dist-packages (from pandas->lazypredict) (2.8.2)\n",
            "Requirement already satisfied: pytz>=2017.3 in /usr/local/lib/python3.8/dist-packages (from pandas->lazypredict) (2022.6)\n",
            "Requirement already satisfied: six>=1.5 in /usr/local/lib/python3.8/dist-packages (from python-dateutil>=2.7.3->pandas->lazypredict) (1.15.0)\n",
            "Requirement already satisfied: threadpoolctl>=2.0.0 in /usr/local/lib/python3.8/dist-packages (from scikit-learn->lazypredict) (3.1.0)\n",
            "Installing collected packages: lazypredict\n",
            "Successfully installed lazypredict-0.2.12\n"
          ]
        }
      ]
    },
    {
      "cell_type": "code",
      "source": [
        "import pyforest\n",
        "import lazypredict\n",
        "from lazypredict.Supervised import LazyClassifier\n",
        "import warnings\n",
        "warnings.filterwarnings(\"ignore\")"
      ],
      "metadata": {
        "id": "3cGQbIFhquHd"
      },
      "execution_count": 4,
      "outputs": []
    },
    {
      "cell_type": "markdown",
      "metadata": {
        "id": "boB14adM_OH-"
      },
      "source": [
        "### Import Packages"
      ]
    },
    {
      "cell_type": "code",
      "execution_count": 5,
      "metadata": {
        "id": "X5u2xk4l_OH_"
      },
      "outputs": [],
      "source": [
        "import os\n",
        "import zipfile\n",
        "import urllib.request\n",
        "import numpy as np\n",
        "from PIL import Image, ImageOps\n",
        "from pathlib import Path\n",
        "import matplotlib.pyplot as plt\n",
        "from matplotlib import cm\n",
        "import seaborn as sns\n",
        "from statistics import mean\n",
        "\n",
        "# open source implementation of LBP\n",
        "from skimage.feature import local_binary_pattern\n",
        "# data preprocessing and metrics module in scikit-learn\n",
        "from sklearn import preprocessing, metrics\n",
        "# SVM implementation in scikit-learn\n",
        "from sklearn.svm import LinearSVC\n",
        "from tqdm import tqdm\n",
        "from sklearn.model_selection import RandomizedSearchCV\n",
        "from scipy.stats import reciprocal, uniform\n",
        "from sklearn.metrics import precision_recall_fscore_support\n",
        "from sklearn.metrics import precision_score, recall_score, f1_score, accuracy_score\n",
        "from sklearn.linear_model import RidgeClassifierCV\n"
      ]
    },
    {
      "cell_type": "markdown",
      "metadata": {
        "id": "UOG0q_6m_OIA"
      },
      "source": [
        "### Local Binary Patterns"
      ]
    },
    {
      "cell_type": "code",
      "source": [],
      "metadata": {
        "id": "mGY4o2sXP1fk"
      },
      "execution_count": 5,
      "outputs": []
    },
    {
      "cell_type": "code",
      "execution_count": 6,
      "metadata": {
        "id": "My6d-QQi_OIA"
      },
      "outputs": [],
      "source": [
        "def lbp(arr):\n",
        "\n",
        "    # LBP params\n",
        "    radius = 3 # radius of coverage of surrounding pixels\n",
        "    points = 8 * radius # 8 points will be around every pixel, 24 points or possible encoding patterns around the pixel of interest\n",
        "    # 8 and 3 are standard values\n",
        "    bins = points + 2\n",
        "    lbp = local_binary_pattern(arr, points, radius, 'uniform') # outputs a larger list of arrays totalling 6724\n",
        "    lbp = lbp.ravel() # make the list of arrays into one large list\n",
        "    feature = np.zeros(bins)\n",
        "    for i in lbp:\n",
        "        feature[int(i)] += 1 # count the occurance of each value\n",
        "    feature /= np.linalg.norm(feature, ord=1) # normalize the features\n",
        "    return feature"
      ]
    },
    {
      "cell_type": "markdown",
      "metadata": {
        "id": "Vds7gNXD_OIA"
      },
      "source": [
        "### Load Data"
      ]
    },
    {
      "cell_type": "code",
      "execution_count": 7,
      "metadata": {
        "id": "kou8ww38_OIB",
        "colab": {
          "base_uri": "https://localhost:8080/"
        },
        "outputId": "2135b709-cb13-443f-ee1d-6ec921c726f8"
      },
      "outputs": [
        {
          "output_type": "stream",
          "name": "stderr",
          "text": [
            "0it [00:00, ?it/s]\n",
            "194it [00:27,  7.06it/s]\n",
            "896it [00:58, 15.21it/s]\n",
            "0it [00:00, ?it/s]\n",
            "108it [00:06, 16.58it/s]\n",
            "137it [00:11, 12.06it/s]\n"
          ]
        }
      ],
      "source": [
        "def load_data(tag='train'):\n",
        "\n",
        "    tag_dir = Path.cwd() / tag # get the file directory\n",
        "    vec = []\n",
        "    cat = []\n",
        "    for cat_dir in tag_dir.iterdir():# iterate through the directory\n",
        "        cat_label = cat_dir.stem # get labled photo names\n",
        "        for img_path in tqdm(cat_dir.glob('*.jpeg')): # get files that are jpeg\n",
        "            img = Image.open(img_path.as_posix()) # open each jpeg\n",
        "            if img.mode != 'L': # if not greyscale convert with this conditional loop\n",
        "                img = ImageOps.grayscale(img)\n",
        "                img.save(img_path.as_posix())\n",
        "            arr = np.array(img) #convert into array\n",
        "            feature = lbp(arr) # get feature vectors\n",
        "            vec.append(feature) #append to feature vector list\n",
        "            cat.append(cat_label) # append to cat_label list\n",
        "    return vec, cat\n",
        "\n",
        "# train photos\n",
        "vec_train, cat_train = load_data('drive/MyDrive/LBP/train')\n",
        "# test photos\n",
        "vec_test, cat_test   = load_data('drive/MyDrive/LBP/test')"
      ]
    },
    {
      "cell_type": "code",
      "source": [
        "photo_label = cat_train[195:897]\n",
        "print_label = cat_train[:194]"
      ],
      "metadata": {
        "id": "oywiCfbb_TiW"
      },
      "execution_count": 8,
      "outputs": []
    },
    {
      "cell_type": "code",
      "source": [
        "photo_vec = vec_train[195 :897]\n",
        "print_vec = vec_train[:194]"
      ],
      "metadata": {
        "id": "PqEGrb10ziXz"
      },
      "execution_count": 9,
      "outputs": []
    },
    {
      "cell_type": "code",
      "source": [
        "#photo_vec"
      ],
      "metadata": {
        "id": "P0kVBiQP7dLS"
      },
      "execution_count": 10,
      "outputs": []
    },
    {
      "cell_type": "code",
      "source": [
        "photo_vec_hist = np.concatenate(photo_vec, axis=0 )\n",
        "print_vec_hist = np.concatenate(print_vec, axis=0 )"
      ],
      "metadata": {
        "id": "ZYsX24r28ldR"
      },
      "execution_count": 11,
      "outputs": []
    },
    {
      "cell_type": "code",
      "source": [
        "n, bins, patches = plt.hist(photo_vec_hist, bins=90, facecolor='#2ab0ff', edgecolor='#e0e0e0', linewidth=0.5, alpha=0.7)\n",
        "\n",
        "n = n.astype('int') # it MUST be integer\n",
        "# Good old loop. Choose colormap of your taste\n",
        "for i in range(len(patches)):\n",
        "    patches[i].set_facecolor(plt.cm.viridis(n[i]/max(n)))\n",
        "# Make one bin stand out   \n",
        "patches[47].set_fc('red') # Set color\n",
        "patches[47].set_alpha(1) # Set opacity\n",
        "# Add annotation\n",
        "#plt.annotate('Important Bar!', xy=(0.57, 175), xytext=(2, 130), fontsize=15, arrowprops={'width':0.4,'headwidth':7,'color':'#333333'})\n",
        "# Add title and labels with custom font sizes\n",
        "plt.title('Photo feature vector distribution', fontsize=12)\n",
        "plt.xlabel('Feature values', fontsize=10)\n",
        "plt.ylabel('Frequency', fontsize=10)\n",
        "plt.show()\n",
        "  "
      ],
      "metadata": {
        "colab": {
          "base_uri": "https://localhost:8080/",
          "height": 295
        },
        "id": "-eS6RB9jBWzb",
        "outputId": "d4680383-7827-43dc-e47d-e1bc94f21f41"
      },
      "execution_count": 12,
      "outputs": [
        {
          "output_type": "display_data",
          "data": {
            "text/plain": [
              "<Figure size 432x288 with 1 Axes>"
            ],
            "image/png": "[encoded data removed]"
          },
          "metadata": {
            "needs_background": "light"
          }
        }
      ]
    },
    {
      "cell_type": "code",
      "source": [
        "n, bins, patches = plt.hist(print_vec_hist, bins=90, facecolor='#2ab0ff', edgecolor='#e0e0e0', linewidth=0.5, alpha=0.7)\n",
        "\n",
        "n = n.astype('int') # it MUST be integer\n",
        "# Good old loop. Choose colormap of your taste\n",
        "for i in range(len(patches)):\n",
        "    patches[i].set_facecolor(plt.cm.viridis(n[i]/max(n)))\n",
        "# Make one bin stand out   \n",
        "patches[47].set_fc('red') # Set color\n",
        "patches[47].set_alpha(1) # Set opacity\n",
        "# Add annotation\n",
        "#plt.annotate('Important Bar!', xy=(0.57, 175), xytext=(2, 130), fontsize=15, arrowprops={'width':0.4,'headwidth':7,'color':'#333333'})\n",
        "# Add title and labels with custom font sizes\n",
        "plt.title('Print feature vector distribution', fontsize=12)\n",
        "plt.xlabel('Feature values', fontsize=10)\n",
        "plt.ylabel('Frequency', fontsize=10)\n",
        "plt.show()\n",
        "  "
      ],
      "metadata": {
        "colab": {
          "base_uri": "https://localhost:8080/",
          "height": 295
        },
        "id": "3ryFzI6P9NTz",
        "outputId": "4bd46775-2773-42ca-b04f-98561f0ebac1"
      },
      "execution_count": 13,
      "outputs": [
        {
          "output_type": "display_data",
          "data": {
            "text/plain": [
              "<Figure size 432x288 with 1 Axes>"
            ],
            "image/png": "[encoded data removed]"
          },
          "metadata": {
            "needs_background": "light"
          }
        }
      ]
    },
    {
      "cell_type": "markdown",
      "metadata": {
        "id": "8TuzkGXN_OIB"
      },
      "source": [
        "### List the categories"
      ]
    },
    {
      "cell_type": "code",
      "execution_count": 14,
      "metadata": {
        "colab": {
          "base_uri": "https://localhost:8080/"
        },
        "id": "dhI-wnt-_OIB",
        "outputId": "76488ec0-56f3-4f3e-d4c7-da7b50f94e05"
      },
      "outputs": [
        {
          "output_type": "execute_result",
          "data": {
            "text/plain": [
              "['Photo', 'Print']"
            ]
          },
          "metadata": {},
          "execution_count": 14
        }
      ],
      "source": [
        "# get unique categories \n",
        "labels = list(np.unique(np.array(cat_train)))\n",
        "labels"
      ]
    },
    {
      "cell_type": "markdown",
      "metadata": {
        "id": "rNR9roET_OIC"
      },
      "source": [
        "### Label Encoder"
      ]
    },
    {
      "cell_type": "code",
      "execution_count": 15,
      "metadata": {
        "id": "d1jwDz0-_OIC"
      },
      "outputs": [],
      "source": [
        "# encode the photo and print vectors as a binary classification\n",
        "le = preprocessing.LabelEncoder()\n",
        "label_train = le.fit_transform(cat_train)\n",
        "label_test = le.transform(cat_test)"
      ]
    },
    {
      "cell_type": "code",
      "source": [
        "vec_train[:3]\n"
      ],
      "metadata": {
        "colab": {
          "base_uri": "https://localhost:8080/"
        },
        "id": "llZ7Tfr-uGRt",
        "outputId": "75596b5c-7eef-4d59-a83b-3f648510af61"
      },
      "execution_count": 16,
      "outputs": [
        {
          "output_type": "execute_result",
          "data": {
            "text/plain": [
              "[array([0.03127315, 0.02462963, 0.0169213 , 0.013125  , 0.01180556,\n",
              "        0.01113426, 0.01296296, 0.01599537, 0.01858796, 0.02287037,\n",
              "        0.02851852, 0.04020833, 0.05206019, 0.04518519, 0.02643519,\n",
              "        0.02747685, 0.01645833, 0.01858796, 0.01284722, 0.01166667,\n",
              "        0.01314815, 0.01571759, 0.01736111, 0.02344907, 0.06122685,\n",
              "        0.41034722]),\n",
              " array([0.03712963, 0.02268519, 0.02081019, 0.01789352, 0.01425926,\n",
              "        0.01472222, 0.01525463, 0.01618056, 0.01863426, 0.02351852,\n",
              "        0.03018519, 0.04243056, 0.05668981, 0.04388889, 0.02733796,\n",
              "        0.02076389, 0.01543981, 0.01368056, 0.01199074, 0.01238426,\n",
              "        0.01259259, 0.0175    , 0.01974537, 0.02488426, 0.04638889,\n",
              "        0.40300926]),\n",
              " array([0.04530093, 0.02511574, 0.02148148, 0.01532407, 0.01166667,\n",
              "        0.00921296, 0.00912037, 0.01173611, 0.01347222, 0.01618056,\n",
              "        0.01868056, 0.02608796, 0.03516204, 0.04148148, 0.0181713 ,\n",
              "        0.0225    , 0.01259259, 0.01905093, 0.01256944, 0.01550926,\n",
              "        0.01578704, 0.01759259, 0.02280093, 0.0255787 , 0.07289352,\n",
              "        0.44493056])]"
            ]
          },
          "metadata": {},
          "execution_count": 16
        }
      ]
    },
    {
      "cell_type": "code",
      "source": [
        "label_train[:3]"
      ],
      "metadata": {
        "colab": {
          "base_uri": "https://localhost:8080/"
        },
        "id": "NOA1M3GNyFl4",
        "outputId": "331b23fc-2a98-4d7a-e814-733fec4e4c6b"
      },
      "execution_count": 17,
      "outputs": [
        {
          "output_type": "execute_result",
          "data": {
            "text/plain": [
              "array([1, 1, 1])"
            ]
          },
          "metadata": {},
          "execution_count": 17
        }
      ]
    },
    {
      "cell_type": "code",
      "source": [
        "vec_train_2 = np.array(vec_train)\n",
        "vec_test_2 = np.array(vec_test)"
      ],
      "metadata": {
        "id": "NuCJ2ndk0HXq"
      },
      "execution_count": 20,
      "outputs": []
    },
    {
      "cell_type": "markdown",
      "source": [
        "##Lazy predict"
      ],
      "metadata": {
        "id": "Ii7R4RyQr12v"
      }
    },
    {
      "cell_type": "code",
      "source": [
        "clf_lazy = LazyClassifier(verbose=0,ignore_warnings=True)\n",
        "models, predictions = clf_lazy.fit(vec_train_2, vec_test_2, label_train, label_test)\n",
        "models"
      ],
      "metadata": {
        "colab": {
          "base_uri": "https://localhost:8080/",
          "height": 914
        },
        "id": "NaZLraXEr6oZ",
        "outputId": "3bdfe6f2-fd53-4760-e9d1-1ab84c12426f"
      },
      "execution_count": 21,
      "outputs": [
        {
          "output_type": "stream",
          "name": "stderr",
          "text": [
            "100%|██████████| 29/29 [00:02<00:00, 10.37it/s]\n"
          ]
        },
        {
          "output_type": "execute_result",
          "data": {
            "text/plain": [
              "                               Accuracy  Balanced Accuracy  ROC AUC  F1 Score  \\\n",
              "Model                                                                           \n",
              "RidgeClassifierCV                  1.00               1.00     1.00      1.00   \n",
              "RidgeClassifier                    1.00               1.00     1.00      1.00   \n",
              "LinearDiscriminantAnalysis         1.00               1.00     1.00      1.00   \n",
              "Perceptron                         0.99               0.99     0.99      0.99   \n",
              "LabelPropagation                   0.96               0.97     0.97      0.96   \n",
              "LabelSpreading                     0.96               0.97     0.97      0.96   \n",
              "KNeighborsClassifier               0.96               0.97     0.97      0.96   \n",
              "AdaBoostClassifier                 0.95               0.96     0.96      0.95   \n",
              "LogisticRegression                 0.94               0.95     0.95      0.94   \n",
              "PassiveAggressiveClassifier        0.95               0.95     0.95      0.95   \n",
              "LinearSVC                          0.95               0.95     0.95      0.95   \n",
              "CalibratedClassifierCV             0.95               0.95     0.95      0.95   \n",
              "DecisionTreeClassifier             0.91               0.92     0.92      0.91   \n",
              "XGBClassifier                      0.91               0.92     0.92      0.91   \n",
              "SGDClassifier                      0.90               0.91     0.91      0.90   \n",
              "ExtraTreeClassifier                0.89               0.90     0.90      0.89   \n",
              "BernoulliNB                        0.90               0.90     0.90      0.90   \n",
              "GaussianNB                         0.88               0.89     0.89      0.88   \n",
              "BaggingClassifier                  0.87               0.88     0.88      0.87   \n",
              "RandomForestClassifier             0.87               0.88     0.88      0.87   \n",
              "SVC                                0.87               0.88     0.88      0.87   \n",
              "NearestCentroid                    0.89               0.88     0.88      0.88   \n",
              "ExtraTreesClassifier               0.84               0.86     0.86      0.84   \n",
              "LGBMClassifier                     0.83               0.85     0.85      0.83   \n",
              "QuadraticDiscriminantAnalysis      0.62               0.66     0.66      0.58   \n",
              "DummyClassifier                    0.44               0.50     0.50      0.27   \n",
              "\n",
              "                               Time Taken  \n",
              "Model                                      \n",
              "RidgeClassifierCV                    0.04  \n",
              "RidgeClassifier                      0.01  \n",
              "LinearDiscriminantAnalysis           0.04  \n",
              "Perceptron                           0.02  \n",
              "LabelPropagation                     0.04  \n",
              "LabelSpreading                       0.08  \n",
              "KNeighborsClassifier                 0.03  \n",
              "AdaBoostClassifier                   0.25  \n",
              "LogisticRegression                   0.07  \n",
              "PassiveAggressiveClassifier          0.02  \n",
              "LinearSVC                            0.05  \n",
              "CalibratedClassifierCV               0.06  \n",
              "DecisionTreeClassifier               0.01  \n",
              "XGBClassifier                        1.16  \n",
              "SGDClassifier                        0.02  \n",
              "ExtraTreeClassifier                  0.02  \n",
              "BernoulliNB                          0.01  \n",
              "GaussianNB                           0.01  \n",
              "BaggingClassifier                    0.06  \n",
              "RandomForestClassifier               0.27  \n",
              "SVC                                  0.02  \n",
              "NearestCentroid                      0.02  \n",
              "ExtraTreesClassifier                 0.17  \n",
              "LGBMClassifier                       0.21  \n",
              "QuadraticDiscriminantAnalysis        0.04  \n",
              "DummyClassifier                      0.01  "
            ],
            "text/html": [
              "\n",
              "  <div id=\"df-f0839153-2465-43e9-8fc3-9acf76f272e4\">\n",
              "    <div class=\"colab-df-container\">\n",
              "      <div>\n",
              "<style scoped>\n",
              "    .dataframe tbody tr th:only-of-type {\n",
              "        vertical-align: middle;\n",
              "    }\n",
              "\n",
              "    .dataframe tbody tr th {\n",
              "        vertical-align: top;\n",
              "    }\n",
              "\n",
              "    .dataframe thead th {\n",
              "        text-align: right;\n",
              "    }\n",
              "</style>\n",
              "<table border=\"1\" class=\"dataframe\">\n",
              "  <thead>\n",
              "    <tr style=\"text-align: right;\">\n",
              "      <th></th>\n",
              "      <th>Accuracy</th>\n",
              "      <th>Balanced Accuracy</th>\n",
              "      <th>ROC AUC</th>\n",
              "      <th>F1 Score</th>\n",
              "      <th>Time Taken</th>\n",
              "    </tr>\n",
              "    <tr>\n",
              "      <th>Model</th>\n",
              "      <th></th>\n",
              "      <th></th>\n",
              "      <th></th>\n",
              "      <th></th>\n",
              "      <th></th>\n",
              "    </tr>\n",
              "  </thead>\n",
              "  <tbody>\n",
              "    <tr>\n",
              "      <th>RidgeClassifierCV</th>\n",
              "      <td>1.00</td>\n",
              "      <td>1.00</td>\n",
              "      <td>1.00</td>\n",
              "      <td>1.00</td>\n",
              "      <td>0.04</td>\n",
              "    </tr>\n",
              "    <tr>\n",
              "      <th>RidgeClassifier</th>\n",
              "      <td>1.00</td>\n",
              "      <td>1.00</td>\n",
              "      <td>1.00</td>\n",
              "      <td>1.00</td>\n",
              "      <td>0.01</td>\n",
              "    </tr>\n",
              "    <tr>\n",
              "      <th>LinearDiscriminantAnalysis</th>\n",
              "      <td>1.00</td>\n",
              "      <td>1.00</td>\n",
              "      <td>1.00</td>\n",
              "      <td>1.00</td>\n",
              "      <td>0.04</td>\n",
              "    </tr>\n",
              "    <tr>\n",
              "      <th>Perceptron</th>\n",
              "      <td>0.99</td>\n",
              "      <td>0.99</td>\n",
              "      <td>0.99</td>\n",
              "      <td>0.99</td>\n",
              "      <td>0.02</td>\n",
              "    </tr>\n",
              "    <tr>\n",
              "      <th>LabelPropagation</th>\n",
              "      <td>0.96</td>\n",
              "      <td>0.97</td>\n",
              "      <td>0.97</td>\n",
              "      <td>0.96</td>\n",
              "      <td>0.04</td>\n",
              "    </tr>\n",
              "    <tr>\n",
              "      <th>LabelSpreading</th>\n",
              "      <td>0.96</td>\n",
              "      <td>0.97</td>\n",
              "      <td>0.97</td>\n",
              "      <td>0.96</td>\n",
              "      <td>0.08</td>\n",
              "    </tr>\n",
              "    <tr>\n",
              "      <th>KNeighborsClassifier</th>\n",
              "      <td>0.96</td>\n",
              "      <td>0.97</td>\n",
              "      <td>0.97</td>\n",
              "      <td>0.96</td>\n",
              "      <td>0.03</td>\n",
              "    </tr>\n",
              "    <tr>\n",
              "      <th>AdaBoostClassifier</th>\n",
              "      <td>0.95</td>\n",
              "      <td>0.96</td>\n",
              "      <td>0.96</td>\n",
              "      <td>0.95</td>\n",
              "      <td>0.25</td>\n",
              "    </tr>\n",
              "    <tr>\n",
              "      <th>LogisticRegression</th>\n",
              "      <td>0.94</td>\n",
              "      <td>0.95</td>\n",
              "      <td>0.95</td>\n",
              "      <td>0.94</td>\n",
              "      <td>0.07</td>\n",
              "    </tr>\n",
              "    <tr>\n",
              "      <th>PassiveAggressiveClassifier</th>\n",
              "      <td>0.95</td>\n",
              "      <td>0.95</td>\n",
              "      <td>0.95</td>\n",
              "      <td>0.95</td>\n",
              "      <td>0.02</td>\n",
              "    </tr>\n",
              "    <tr>\n",
              "      <th>LinearSVC</th>\n",
              "      <td>0.95</td>\n",
              "      <td>0.95</td>\n",
              "      <td>0.95</td>\n",
              "      <td>0.95</td>\n",
              "      <td>0.05</td>\n",
              "    </tr>\n",
              "    <tr>\n",
              "      <th>CalibratedClassifierCV</th>\n",
              "      <td>0.95</td>\n",
              "      <td>0.95</td>\n",
              "      <td>0.95</td>\n",
              "      <td>0.95</td>\n",
              "      <td>0.06</td>\n",
              "    </tr>\n",
              "    <tr>\n",
              "      <th>DecisionTreeClassifier</th>\n",
              "      <td>0.91</td>\n",
              "      <td>0.92</td>\n",
              "      <td>0.92</td>\n",
              "      <td>0.91</td>\n",
              "      <td>0.01</td>\n",
              "    </tr>\n",
              "    <tr>\n",
              "      <th>XGBClassifier</th>\n",
              "      <td>0.91</td>\n",
              "      <td>0.92</td>\n",
              "      <td>0.92</td>\n",
              "      <td>0.91</td>\n",
              "      <td>1.16</td>\n",
              "    </tr>\n",
              "    <tr>\n",
              "      <th>SGDClassifier</th>\n",
              "      <td>0.90</td>\n",
              "      <td>0.91</td>\n",
              "      <td>0.91</td>\n",
              "      <td>0.90</td>\n",
              "      <td>0.02</td>\n",
              "    </tr>\n",
              "    <tr>\n",
              "      <th>ExtraTreeClassifier</th>\n",
              "      <td>0.89</td>\n",
              "      <td>0.90</td>\n",
              "      <td>0.90</td>\n",
              "      <td>0.89</td>\n",
              "      <td>0.02</td>\n",
              "    </tr>\n",
              "    <tr>\n",
              "      <th>BernoulliNB</th>\n",
              "      <td>0.90</td>\n",
              "      <td>0.90</td>\n",
              "      <td>0.90</td>\n",
              "      <td>0.90</td>\n",
              "      <td>0.01</td>\n",
              "    </tr>\n",
              "    <tr>\n",
              "      <th>GaussianNB</th>\n",
              "      <td>0.88</td>\n",
              "      <td>0.89</td>\n",
              "      <td>0.89</td>\n",
              "      <td>0.88</td>\n",
              "      <td>0.01</td>\n",
              "    </tr>\n",
              "    <tr>\n",
              "      <th>BaggingClassifier</th>\n",
              "      <td>0.87</td>\n",
              "      <td>0.88</td>\n",
              "      <td>0.88</td>\n",
              "      <td>0.87</td>\n",
              "      <td>0.06</td>\n",
              "    </tr>\n",
              "    <tr>\n",
              "      <th>RandomForestClassifier</th>\n",
              "      <td>0.87</td>\n",
              "      <td>0.88</td>\n",
              "      <td>0.88</td>\n",
              "      <td>0.87</td>\n",
              "      <td>0.27</td>\n",
              "    </tr>\n",
              "    <tr>\n",
              "      <th>SVC</th>\n",
              "      <td>0.87</td>\n",
              "      <td>0.88</td>\n",
              "      <td>0.88</td>\n",
              "      <td>0.87</td>\n",
              "      <td>0.02</td>\n",
              "    </tr>\n",
              "    <tr>\n",
              "      <th>NearestCentroid</th>\n",
              "      <td>0.89</td>\n",
              "      <td>0.88</td>\n",
              "      <td>0.88</td>\n",
              "      <td>0.88</td>\n",
              "      <td>0.02</td>\n",
              "    </tr>\n",
              "    <tr>\n",
              "      <th>ExtraTreesClassifier</th>\n",
              "      <td>0.84</td>\n",
              "      <td>0.86</td>\n",
              "      <td>0.86</td>\n",
              "      <td>0.84</td>\n",
              "      <td>0.17</td>\n",
              "    </tr>\n",
              "    <tr>\n",
              "      <th>LGBMClassifier</th>\n",
              "      <td>0.83</td>\n",
              "      <td>0.85</td>\n",
              "      <td>0.85</td>\n",
              "      <td>0.83</td>\n",
              "      <td>0.21</td>\n",
              "    </tr>\n",
              "    <tr>\n",
              "      <th>QuadraticDiscriminantAnalysis</th>\n",
              "      <td>0.62</td>\n",
              "      <td>0.66</td>\n",
              "      <td>0.66</td>\n",
              "      <td>0.58</td>\n",
              "      <td>0.04</td>\n",
              "    </tr>\n",
              "    <tr>\n",
              "      <th>DummyClassifier</th>\n",
              "      <td>0.44</td>\n",
              "      <td>0.50</td>\n",
              "      <td>0.50</td>\n",
              "      <td>0.27</td>\n",
              "      <td>0.01</td>\n",
              "    </tr>\n",
              "  </tbody>\n",
              "</table>\n",
              "</div>\n",
              "      <button class=\"colab-df-convert\" onclick=\"convertToInteractive('df-f0839153-2465-43e9-8fc3-9acf76f272e4')\"\n",
              "              title=\"Convert this dataframe to an interactive table.\"\n",
              "              style=\"display:none;\">\n",
              "        \n",
              "  <svg xmlns=\"http://www.w3.org/2000/svg\" height=\"24px\"viewBox=\"0 0 24 24\"\n",
              "       width=\"24px\">\n",
              "    <path d=\"M0 0h24v24H0V0z\" fill=\"none\"/>\n",
              "    <path d=\"M18.56 5.44l.94 2.06.94-2.06 2.06-.94-2.06-.94-.94-2.06-.94 2.06-2.06.94zm-11 1L8.5 8.5l.94-2.06 2.06-.94-2.06-.94L8.5 2.5l-.94 2.06-2.06.94zm10 10l.94 2.06.94-2.06 2.06-.94-2.06-.94-.94-2.06-.94 2.06-2.06.94z\"/><path d=\"M17.41 7.96l-1.37-1.37c-.4-.4-.92-.59-1.43-.59-.52 0-1.04.2-1.43.59L10.3 9.45l-7.72 7.72c-.78.78-.78 2.05 0 2.83L4 21.41c.39.39.9.59 1.41.59.51 0 1.02-.2 1.41-.59l7.78-7.78 2.81-2.81c.8-.78.8-2.07 0-2.86zM5.41 20L4 18.59l7.72-7.72 1.47 1.35L5.41 20z\"/>\n",
              "  </svg>\n",
              "      </button>\n",
              "      \n",
              "  <style>\n",
              "    .colab-df-container {\n",
              "      display:flex;\n",
              "      flex-wrap:wrap;\n",
              "      gap: 12px;\n",
              "    }\n",
              "\n",
              "    .colab-df-convert {\n",
              "      background-color: #E8F0FE;\n",
              "      border: none;\n",
              "      border-radius: 50%;\n",
              "      cursor: pointer;\n",
              "      display: none;\n",
              "      fill: #1967D2;\n",
              "      height: 32px;\n",
              "      padding: 0 0 0 0;\n",
              "      width: 32px;\n",
              "    }\n",
              "\n",
              "    .colab-df-convert:hover {\n",
              "      background-color: #E2EBFA;\n",
              "      box-shadow: 0px 1px 2px rgba(60, 64, 67, 0.3), 0px 1px 3px 1px rgba(60, 64, 67, 0.15);\n",
              "      fill: #174EA6;\n",
              "    }\n",
              "\n",
              "    [theme=dark] .colab-df-convert {\n",
              "      background-color: #3B4455;\n",
              "      fill: #D2E3FC;\n",
              "    }\n",
              "\n",
              "    [theme=dark] .colab-df-convert:hover {\n",
              "      background-color: #434B5C;\n",
              "      box-shadow: 0px 1px 3px 1px rgba(0, 0, 0, 0.15);\n",
              "      filter: drop-shadow(0px 1px 2px rgba(0, 0, 0, 0.3));\n",
              "      fill: #FFFFFF;\n",
              "    }\n",
              "  </style>\n",
              "\n",
              "      <script>\n",
              "        const buttonEl =\n",
              "          document.querySelector('#df-f0839153-2465-43e9-8fc3-9acf76f272e4 button.colab-df-convert');\n",
              "        buttonEl.style.display =\n",
              "          google.colab.kernel.accessAllowed ? 'block' : 'none';\n",
              "\n",
              "        async function convertToInteractive(key) {\n",
              "          const element = document.querySelector('#df-f0839153-2465-43e9-8fc3-9acf76f272e4');\n",
              "          const dataTable =\n",
              "            await google.colab.kernel.invokeFunction('convertToInteractive',\n",
              "                                                     [key], {});\n",
              "          if (!dataTable) return;\n",
              "\n",
              "          const docLinkHtml = 'Like what you see? Visit the ' +\n",
              "            '<a target=\"_blank\" href=https://colab.research.google.com/notebooks/data_table.ipynb>data table notebook</a>'\n",
              "            + ' to learn more about interactive tables.';\n",
              "          element.innerHTML = '';\n",
              "          dataTable['output_type'] = 'display_data';\n",
              "          await google.colab.output.renderOutput(dataTable, element);\n",
              "          const docLink = document.createElement('div');\n",
              "          docLink.innerHTML = docLinkHtml;\n",
              "          element.appendChild(docLink);\n",
              "        }\n",
              "      </script>\n",
              "    </div>\n",
              "  </div>\n",
              "  "
            ]
          },
          "metadata": {},
          "execution_count": 21
        }
      ]
    },
    {
      "cell_type": "markdown",
      "source": [
        "Overfitting is occuring, in this case one must considering using K-fold cross validation to get a more accurate result"
      ],
      "metadata": {
        "id": "Ei3lSEXr6E5n"
      }
    },
    {
      "cell_type": "markdown",
      "source": [
        "##KNN: Hyperparam. tuning and Kfold cross val."
      ],
      "metadata": {
        "id": "FDrg9w4slz-L"
      }
    },
    {
      "cell_type": "code",
      "source": [
        "from sklearn.neighbors import KNeighborsClassifier\n",
        "neigh = KNeighborsClassifier(n_neighbors=3)\n",
        "neigh.fit(vec_train, label_train)"
      ],
      "metadata": {
        "colab": {
          "base_uri": "https://localhost:8080/"
        },
        "id": "Kb1sHaj0CmWC",
        "outputId": "65bf76dd-e2a8-4f98-d47a-d4de036ce50b"
      },
      "execution_count": 22,
      "outputs": [
        {
          "output_type": "execute_result",
          "data": {
            "text/plain": [
              "KNeighborsClassifier(n_neighbors=3)"
            ]
          },
          "metadata": {},
          "execution_count": 22
        }
      ]
    },
    {
      "cell_type": "code",
      "source": [
        "param_distributions_knn = { 'n_neighbors': uniform(1, 10) }\n",
        "rnd_search_cv_knn= RandomizedSearchCV(neigh, param_distributions_knn, n_iter=20, verbose=2, cv=3)"
      ],
      "metadata": {
        "id": "3BmzLvicEwuP"
      },
      "execution_count": 23,
      "outputs": []
    },
    {
      "cell_type": "code",
      "source": [
        "from sklearn.model_selection import GridSearchCV\n",
        "k_range=list(range(1,31))\n",
        "print(k_range)\n",
        "param_grid=dict(n_neighbors=k_range)\n",
        "knn=KNeighborsClassifier()  #Important to form an instance\n",
        "grid = GridSearchCV(knn, param_grid, cv=10, scoring='accuracy')\n",
        "grid.fit(vec_train, label_train)"
      ],
      "metadata": {
        "colab": {
          "base_uri": "https://localhost:8080/"
        },
        "id": "8wwiUj71Jfcq",
        "outputId": "44e31742-4643-46be-db5f-91abd2290bdc"
      },
      "execution_count": 24,
      "outputs": [
        {
          "output_type": "stream",
          "name": "stdout",
          "text": [
            "[1, 2, 3, 4, 5, 6, 7, 8, 9, 10, 11, 12, 13, 14, 15, 16, 17, 18, 19, 20, 21, 22, 23, 24, 25, 26, 27, 28, 29, 30]\n"
          ]
        },
        {
          "output_type": "execute_result",
          "data": {
            "text/plain": [
              "GridSearchCV(cv=10, estimator=KNeighborsClassifier(),\n",
              "             param_grid={'n_neighbors': [1, 2, 3, 4, 5, 6, 7, 8, 9, 10, 11, 12,\n",
              "                                         13, 14, 15, 16, 17, 18, 19, 20, 21, 22,\n",
              "                                         23, 24, 25, 26, 27, 28, 29, 30]},\n",
              "             scoring='accuracy')"
            ]
          },
          "metadata": {},
          "execution_count": 24
        }
      ]
    },
    {
      "cell_type": "code",
      "source": [
        "print(grid.best_score_)\n",
        "print(grid.best_params_)\n",
        "print(grid.best_estimator_)"
      ],
      "metadata": {
        "colab": {
          "base_uri": "https://localhost:8080/"
        },
        "id": "6Z4OZoNhLEov",
        "outputId": "ff0b36eb-8447-445e-cffa-5fa25e415ff3"
      },
      "execution_count": 25,
      "outputs": [
        {
          "output_type": "stream",
          "name": "stdout",
          "text": [
            "1.0\n",
            "{'n_neighbors': 1}\n",
            "KNeighborsClassifier(n_neighbors=1)\n"
          ]
        }
      ]
    },
    {
      "cell_type": "code",
      "source": [
        "neigh = KNeighborsClassifier(n_neighbors=10)\n",
        "neigh.fit(vec_train, label_train)"
      ],
      "metadata": {
        "colab": {
          "base_uri": "https://localhost:8080/"
        },
        "id": "lnKJbw5gLTK8",
        "outputId": "06577ab5-3f81-4ddf-88fa-249d7c7ca83c"
      },
      "execution_count": 26,
      "outputs": [
        {
          "output_type": "execute_result",
          "data": {
            "text/plain": [
              "KNeighborsClassifier(n_neighbors=10)"
            ]
          },
          "metadata": {},
          "execution_count": 26
        }
      ]
    },
    {
      "cell_type": "markdown",
      "metadata": {
        "id": "5fxEbxxx_OIC"
      },
      "source": [
        "### Evaluation of KNN"
      ]
    },
    {
      "cell_type": "code",
      "execution_count": 27,
      "metadata": {
        "colab": {
          "base_uri": "https://localhost:8080/",
          "height": 297
        },
        "id": "qMV3uN-T_OIC",
        "outputId": "19f1b016-5cc5-4e70-8f57-3b453f6159da"
      },
      "outputs": [
        {
          "output_type": "stream",
          "name": "stdout",
          "text": [
            "Accuracy: 96.33%\n"
          ]
        },
        {
          "output_type": "display_data",
          "data": {
            "text/plain": [
              "<Figure size 432x288 with 2 Axes>"
            ],
            "image/png": "[encoded data removed]"
          },
          "metadata": {
            "needs_background": "light"
          }
        }
      ],
      "source": [
        "# test set evaluation\n",
        "prediction = neigh.predict(vec_test)\n",
        "# visualization\n",
        "cmat = metrics.confusion_matrix(prediction,label_test)\n",
        "s = sns.heatmap(cmat,annot=True,xticklabels=labels, yticklabels=labels)\n",
        "s.set(xlabel='Predicted', ylabel='Actual')\n",
        "acc = cmat.trace() / cmat.sum()\n",
        "print('Accuracy: {0:5.2f}%'.format(acc*100))"
      ]
    },
    {
      "cell_type": "code",
      "source": [
        "k_range = list(range(1, 25))\n",
        "k_scores = []\n",
        "for k in k_range:\n",
        "    knn = KNeighborsClassifier(n_neighbors=k)\n",
        "    scores = cross_val_score(knn, vec_train, label_train, cv=10, scoring='accuracy')\n",
        "    k_scores.append(scores.mean())\n",
        "print(k_scores)\n"
      ],
      "metadata": {
        "id": "s0McNlpdDFDO",
        "colab": {
          "base_uri": "https://localhost:8080/",
          "height": 55
        },
        "outputId": "adccb645-0745-4fa1-dd30-371338d729f7"
      },
      "execution_count": 28,
      "outputs": [
        {
          "output_type": "display_data",
          "data": {
            "text/plain": [
              "<IPython.core.display.Javascript object>"
            ],
            "application/javascript": [
              "\n",
              "        if (window._pyforest_update_imports_cell) { window._pyforest_update_imports_cell('from sklearn.model_selection import cross_val_score'); }\n",
              "    "
            ]
          },
          "metadata": {}
        },
        {
          "output_type": "display_data",
          "data": {
            "text/plain": [
              "<IPython.core.display.Javascript object>"
            ],
            "application/javascript": [
              "\n",
              "        if (window._pyforest_update_imports_cell) { window._pyforest_update_imports_cell('from sklearn.model_selection import cross_val_score'); }\n",
              "    "
            ]
          },
          "metadata": {}
        },
        {
          "output_type": "display_data",
          "data": {
            "text/plain": [
              "<IPython.core.display.Javascript object>"
            ],
            "application/javascript": [
              "\n",
              "        if (window._pyforest_update_imports_cell) { window._pyforest_update_imports_cell('from sklearn.model_selection import cross_val_score'); }\n",
              "    "
            ]
          },
          "metadata": {}
        },
        {
          "output_type": "display_data",
          "data": {
            "text/plain": [
              "<IPython.core.display.Javascript object>"
            ],
            "application/javascript": [
              "\n",
              "        if (window._pyforest_update_imports_cell) { window._pyforest_update_imports_cell('from sklearn.model_selection import cross_val_score'); }\n",
              "    "
            ]
          },
          "metadata": {}
        },
        {
          "output_type": "display_data",
          "data": {
            "text/plain": [
              "<IPython.core.display.Javascript object>"
            ],
            "application/javascript": [
              "\n",
              "        if (window._pyforest_update_imports_cell) { window._pyforest_update_imports_cell('from sklearn.model_selection import cross_val_score'); }\n",
              "    "
            ]
          },
          "metadata": {}
        },
        {
          "output_type": "display_data",
          "data": {
            "text/plain": [
              "<IPython.core.display.Javascript object>"
            ],
            "application/javascript": [
              "\n",
              "        if (window._pyforest_update_imports_cell) { window._pyforest_update_imports_cell('from sklearn.model_selection import cross_val_score'); }\n",
              "    "
            ]
          },
          "metadata": {}
        },
        {
          "output_type": "display_data",
          "data": {
            "text/plain": [
              "<IPython.core.display.Javascript object>"
            ],
            "application/javascript": [
              "\n",
              "        if (window._pyforest_update_imports_cell) { window._pyforest_update_imports_cell('from sklearn.model_selection import cross_val_score'); }\n",
              "    "
            ]
          },
          "metadata": {}
        },
        {
          "output_type": "display_data",
          "data": {
            "text/plain": [
              "<IPython.core.display.Javascript object>"
            ],
            "application/javascript": [
              "\n",
              "        if (window._pyforest_update_imports_cell) { window._pyforest_update_imports_cell('from sklearn.model_selection import cross_val_score'); }\n",
              "    "
            ]
          },
          "metadata": {}
        },
        {
          "output_type": "display_data",
          "data": {
            "text/plain": [
              "<IPython.core.display.Javascript object>"
            ],
            "application/javascript": [
              "\n",
              "        if (window._pyforest_update_imports_cell) { window._pyforest_update_imports_cell('from sklearn.model_selection import cross_val_score'); }\n",
              "    "
            ]
          },
          "metadata": {}
        },
        {
          "output_type": "display_data",
          "data": {
            "text/plain": [
              "<IPython.core.display.Javascript object>"
            ],
            "application/javascript": [
              "\n",
              "        if (window._pyforest_update_imports_cell) { window._pyforest_update_imports_cell('from sklearn.model_selection import cross_val_score'); }\n",
              "    "
            ]
          },
          "metadata": {}
        },
        {
          "output_type": "display_data",
          "data": {
            "text/plain": [
              "<IPython.core.display.Javascript object>"
            ],
            "application/javascript": [
              "\n",
              "        if (window._pyforest_update_imports_cell) { window._pyforest_update_imports_cell('from sklearn.model_selection import cross_val_score'); }\n",
              "    "
            ]
          },
          "metadata": {}
        },
        {
          "output_type": "display_data",
          "data": {
            "text/plain": [
              "<IPython.core.display.Javascript object>"
            ],
            "application/javascript": [
              "\n",
              "        if (window._pyforest_update_imports_cell) { window._pyforest_update_imports_cell('from sklearn.model_selection import cross_val_score'); }\n",
              "    "
            ]
          },
          "metadata": {}
        },
        {
          "output_type": "display_data",
          "data": {
            "text/plain": [
              "<IPython.core.display.Javascript object>"
            ],
            "application/javascript": [
              "\n",
              "        if (window._pyforest_update_imports_cell) { window._pyforest_update_imports_cell('from sklearn.model_selection import cross_val_score'); }\n",
              "    "
            ]
          },
          "metadata": {}
        },
        {
          "output_type": "display_data",
          "data": {
            "text/plain": [
              "<IPython.core.display.Javascript object>"
            ],
            "application/javascript": [
              "\n",
              "        if (window._pyforest_update_imports_cell) { window._pyforest_update_imports_cell('from sklearn.model_selection import cross_val_score'); }\n",
              "    "
            ]
          },
          "metadata": {}
        },
        {
          "output_type": "display_data",
          "data": {
            "text/plain": [
              "<IPython.core.display.Javascript object>"
            ],
            "application/javascript": [
              "\n",
              "        if (window._pyforest_update_imports_cell) { window._pyforest_update_imports_cell('from sklearn.model_selection import cross_val_score'); }\n",
              "    "
            ]
          },
          "metadata": {}
        },
        {
          "output_type": "display_data",
          "data": {
            "text/plain": [
              "<IPython.core.display.Javascript object>"
            ],
            "application/javascript": [
              "\n",
              "        if (window._pyforest_update_imports_cell) { window._pyforest_update_imports_cell('from sklearn.model_selection import cross_val_score'); }\n",
              "    "
            ]
          },
          "metadata": {}
        },
        {
          "output_type": "display_data",
          "data": {
            "text/plain": [
              "<IPython.core.display.Javascript object>"
            ],
            "application/javascript": [
              "\n",
              "        if (window._pyforest_update_imports_cell) { window._pyforest_update_imports_cell('from sklearn.model_selection import cross_val_score'); }\n",
              "    "
            ]
          },
          "metadata": {}
        },
        {
          "output_type": "display_data",
          "data": {
            "text/plain": [
              "<IPython.core.display.Javascript object>"
            ],
            "application/javascript": [
              "\n",
              "        if (window._pyforest_update_imports_cell) { window._pyforest_update_imports_cell('from sklearn.model_selection import cross_val_score'); }\n",
              "    "
            ]
          },
          "metadata": {}
        },
        {
          "output_type": "display_data",
          "data": {
            "text/plain": [
              "<IPython.core.display.Javascript object>"
            ],
            "application/javascript": [
              "\n",
              "        if (window._pyforest_update_imports_cell) { window._pyforest_update_imports_cell('from sklearn.model_selection import cross_val_score'); }\n",
              "    "
            ]
          },
          "metadata": {}
        },
        {
          "output_type": "display_data",
          "data": {
            "text/plain": [
              "<IPython.core.display.Javascript object>"
            ],
            "application/javascript": [
              "\n",
              "        if (window._pyforest_update_imports_cell) { window._pyforest_update_imports_cell('from sklearn.model_selection import cross_val_score'); }\n",
              "    "
            ]
          },
          "metadata": {}
        },
        {
          "output_type": "display_data",
          "data": {
            "text/plain": [
              "<IPython.core.display.Javascript object>"
            ],
            "application/javascript": [
              "\n",
              "        if (window._pyforest_update_imports_cell) { window._pyforest_update_imports_cell('from sklearn.model_selection import cross_val_score'); }\n",
              "    "
            ]
          },
          "metadata": {}
        },
        {
          "output_type": "display_data",
          "data": {
            "text/plain": [
              "<IPython.core.display.Javascript object>"
            ],
            "application/javascript": [
              "\n",
              "        if (window._pyforest_update_imports_cell) { window._pyforest_update_imports_cell('from sklearn.model_selection import cross_val_score'); }\n",
              "    "
            ]
          },
          "metadata": {}
        },
        {
          "output_type": "display_data",
          "data": {
            "text/plain": [
              "<IPython.core.display.Javascript object>"
            ],
            "application/javascript": [
              "\n",
              "        if (window._pyforest_update_imports_cell) { window._pyforest_update_imports_cell('from sklearn.model_selection import cross_val_score'); }\n",
              "    "
            ]
          },
          "metadata": {}
        },
        {
          "output_type": "display_data",
          "data": {
            "text/plain": [
              "<IPython.core.display.Javascript object>"
            ],
            "application/javascript": [
              "\n",
              "        if (window._pyforest_update_imports_cell) { window._pyforest_update_imports_cell('from sklearn.model_selection import cross_val_score'); }\n",
              "    "
            ]
          },
          "metadata": {}
        },
        {
          "output_type": "stream",
          "name": "stdout",
          "text": [
            "[1.0, 1.0, 1.0, 1.0, 1.0, 1.0, 0.9963302752293579, 0.9963302752293579, 0.9935779816513761, 0.9935779816513761, 0.9935779816513761, 0.9917431192660551, 0.9917431192660551, 0.9880733944954129, 0.9871559633027523, 0.9871559633027523, 0.9871559633027523, 0.9889908256880734, 0.9880733944954129, 0.9880733944954129, 0.9871559633027523, 0.9871559633027523, 0.9871559633027523, 0.9871559633027523]\n"
          ]
        }
      ]
    },
    {
      "cell_type": "code",
      "source": [
        "mean(k_scores)"
      ],
      "metadata": {
        "colab": {
          "base_uri": "https://localhost:8080/"
        },
        "id": "SRKOVub-2iPI",
        "outputId": "e59481b7-f074-41d0-b35f-d82c8f2ec268"
      },
      "execution_count": 29,
      "outputs": [
        {
          "output_type": "execute_result",
          "data": {
            "text/plain": [
              "0.9925076452599388"
            ]
          },
          "metadata": {},
          "execution_count": 29
        }
      ]
    },
    {
      "cell_type": "markdown",
      "source": [
        "## Based on the Lazypredictor values it seems like models like RidgeClassifiers and LDA might be better and they won't need much tuning."
      ],
      "metadata": {
        "id": "H81xZMQ7dvOE"
      }
    },
    {
      "cell_type": "markdown",
      "source": [
        "##RidgeClassifierCV"
      ],
      "metadata": {
        "id": "q-Be0w0--zA5"
      }
    },
    {
      "cell_type": "code",
      "source": [
        "clf_rid = RidgeClassifierCV().fit(vec_train, label_train)"
      ],
      "metadata": {
        "id": "RQDI8rTW-O8i"
      },
      "execution_count": 30,
      "outputs": []
    },
    {
      "cell_type": "markdown",
      "source": [
        "# Evaluation of RidgeClassifierCV"
      ],
      "metadata": {
        "id": "VDEYw8Ql_OrM"
      }
    },
    {
      "cell_type": "code",
      "source": [
        "# test set evaluation\n",
        "prediction = clf_rid.predict(vec_test)\n",
        "# visualization\n",
        "cmat = metrics.confusion_matrix(prediction,label_test)\n",
        "s = sns.heatmap(cmat,annot=True,xticklabels=labels, yticklabels=labels)\n",
        "s.set(xlabel='Predicted', ylabel='Actual')\n",
        "acc = cmat.trace() / cmat.sum()\n",
        "print('Accuracy: {0:5.2f}%'.format(acc*100))"
      ],
      "metadata": {
        "colab": {
          "base_uri": "https://localhost:8080/",
          "height": 297
        },
        "id": "4F_GgTcs_Cxv",
        "outputId": "27283e8b-808d-44ea-daf9-b1d096cd72d5"
      },
      "execution_count": 31,
      "outputs": [
        {
          "output_type": "stream",
          "name": "stdout",
          "text": [
            "Accuracy: 92.65%\n"
          ]
        },
        {
          "output_type": "display_data",
          "data": {
            "text/plain": [
              "<Figure size 432x288 with 2 Axes>"
            ],
            "image/png": "[encoded data removed]"
          },
          "metadata": {
            "needs_background": "light"
          }
        }
      ]
    },
    {
      "cell_type": "markdown",
      "source": [
        "##LDA"
      ],
      "metadata": {
        "id": "wsJ56z8Tc4i_"
      }
    },
    {
      "cell_type": "code",
      "source": [
        "from sklearn.discriminant_analysis import LinearDiscriminantAnalysis"
      ],
      "metadata": {
        "id": "vLwAJ8Dr_LCF"
      },
      "execution_count": 32,
      "outputs": []
    },
    {
      "cell_type": "code",
      "source": [
        "clf_LDA = LinearDiscriminantAnalysis()\n",
        "clf_LDA.fit(vec_train, label_train)"
      ],
      "metadata": {
        "colab": {
          "base_uri": "https://localhost:8080/"
        },
        "id": "qg7pYCyiZjNM",
        "outputId": "f2ffddac-4bf3-4ac7-d91c-5d7ef907dd27"
      },
      "execution_count": 33,
      "outputs": [
        {
          "output_type": "execute_result",
          "data": {
            "text/plain": [
              "LinearDiscriminantAnalysis()"
            ]
          },
          "metadata": {},
          "execution_count": 33
        }
      ]
    },
    {
      "cell_type": "code",
      "source": [
        "# test set evaluation\n",
        "prediction = clf_LDA.predict(vec_test)\n",
        "# visualization\n",
        "cmat = metrics.confusion_matrix(prediction,label_test)\n",
        "s = sns.heatmap(cmat,annot=True,xticklabels=labels, yticklabels=labels)\n",
        "s.set(xlabel='Predicted', ylabel='Actual')\n",
        "acc = cmat.trace() / cmat.sum()\n",
        "print('Accuracy: {0:5.2f}%'.format(acc*100))"
      ],
      "metadata": {
        "colab": {
          "base_uri": "https://localhost:8080/",
          "height": 297
        },
        "id": "enKp8NRYZs5Z",
        "outputId": "49f2f283-c585-403a-8c52-b8363c110dd5"
      },
      "execution_count": 34,
      "outputs": [
        {
          "output_type": "stream",
          "name": "stdout",
          "text": [
            "Accuracy: 100.00%\n"
          ]
        },
        {
          "output_type": "display_data",
          "data": {
            "text/plain": [
              "<Figure size 432x288 with 2 Axes>"
            ],
            "image/png": "[encoded data removed]"
          },
          "metadata": {
            "needs_background": "light"
          }
        }
      ]
    },
    {
      "cell_type": "markdown",
      "source": [
        "# LDA Evaluation\n"
      ],
      "metadata": {
        "id": "WYpTlLrRcnWk"
      }
    },
    {
      "cell_type": "markdown",
      "source": [
        "##Evaluation on test"
      ],
      "metadata": {
        "id": "ZH91-IFteEMy"
      }
    },
    {
      "cell_type": "code",
      "source": [
        "from sklearn.model_selection import RepeatedStratifiedKFold\n",
        "cv = RepeatedStratifiedKFold(n_splits=30, n_repeats=3, random_state=1)\n",
        "from numpy import mean\n",
        "from numpy import std\n",
        "\n",
        "scores = cross_val_score(clf_LDA, vec_test, label_test , scoring='accuracy', cv=cv, n_jobs=-1)\n",
        "# summarize result\n",
        "print('Mean Accuracy: %.3f (%.3f)' % (mean(scores), std(scores)))"
      ],
      "metadata": {
        "colab": {
          "base_uri": "https://localhost:8080/",
          "height": 35
        },
        "id": "UVc0Swu3Zw5e",
        "outputId": "f70c8de3-0a81-4c01-c6e2-65752177b48f"
      },
      "execution_count": 35,
      "outputs": [
        {
          "output_type": "display_data",
          "data": {
            "text/plain": [
              "<IPython.core.display.Javascript object>"
            ],
            "application/javascript": [
              "\n",
              "        if (window._pyforest_update_imports_cell) { window._pyforest_update_imports_cell('from sklearn.model_selection import cross_val_score'); }\n",
              "    "
            ]
          },
          "metadata": {}
        },
        {
          "output_type": "stream",
          "name": "stdout",
          "text": [
            "Mean Accuracy: 1.000 (0.000)\n"
          ]
        }
      ]
    },
    {
      "cell_type": "markdown",
      "source": [
        "##Evaluation on train"
      ],
      "metadata": {
        "id": "EsbNpg-deJT8"
      }
    },
    {
      "cell_type": "code",
      "source": [
        "from sklearn.model_selection import RepeatedStratifiedKFold\n",
        "cv = RepeatedStratifiedKFold(n_splits=30, n_repeats=3, random_state=1)\n",
        "from numpy import mean\n",
        "from numpy import std\n",
        "\n",
        "scores = cross_val_score(clf_LDA, vec_train, label_train , scoring='accuracy', cv=cv, n_jobs=-1)\n",
        "# summarize result\n",
        "print('Mean Accuracy: %.3f (%.3f)' % (mean(scores), std(scores)))"
      ],
      "metadata": {
        "colab": {
          "base_uri": "https://localhost:8080/",
          "height": 35
        },
        "id": "N5CQqQcgaWUH",
        "outputId": "f7df23b0-6256-47a0-d51b-b43a4f942d3a"
      },
      "execution_count": 36,
      "outputs": [
        {
          "output_type": "display_data",
          "data": {
            "text/plain": [
              "<IPython.core.display.Javascript object>"
            ],
            "application/javascript": [
              "\n",
              "        if (window._pyforest_update_imports_cell) { window._pyforest_update_imports_cell('from sklearn.model_selection import cross_val_score'); }\n",
              "    "
            ]
          },
          "metadata": {}
        },
        {
          "output_type": "stream",
          "name": "stdout",
          "text": [
            "Mean Accuracy: 0.991 (0.014)\n"
          ]
        }
      ]
    },
    {
      "cell_type": "markdown",
      "source": [
        "Interesting that runnning the K-fold cross validation we get a less accuracte model on the training data then the test data. This might be that the test data is considerable smaller than the test data.|"
      ],
      "metadata": {
        "id": "lBICHKWCdQAm"
      }
    },
    {
      "cell_type": "markdown",
      "source": [
        "## Why LDA performs so well?"
      ],
      "metadata": {
        "id": "rIzUB32UgPzC"
      }
    },
    {
      "cell_type": "markdown",
      "source": [
        "LDA projections maximize the distances between different classes, it does this by maximizing the component class axes for class seperation. In other words, it gets a more seperate distributions between the classes on that axes. "
      ],
      "metadata": {
        "id": "Yp4Gh8ZvgP3u"
      }
    },
    {
      "cell_type": "markdown",
      "source": [
        "## Visualizing Dimensions"
      ],
      "metadata": {
        "id": "_KiM5RC0ATXx"
      }
    },
    {
      "cell_type": "code",
      "source": [
        "print(vec_test_2.shape)\n",
        "print(vec_train_2.shape)\n",
        "print(len(cat_test))\n",
        "print(len(cat_train))"
      ],
      "metadata": {
        "colab": {
          "base_uri": "https://localhost:8080/"
        },
        "id": "n8SgBizK13Fp",
        "outputId": "d4dee0dc-d549-4592-8fc1-90a5e95b10ee"
      },
      "execution_count": 37,
      "outputs": [
        {
          "output_type": "stream",
          "name": "stdout",
          "text": [
            "(245, 26)\n",
            "(1090, 26)\n",
            "245\n",
            "1090\n"
          ]
        }
      ]
    },
    {
      "cell_type": "code",
      "source": [
        "from sklearn.manifold import TSNE\n",
        "train_embedded = TSNE(n_components=2, learning_rate=200,\n",
        "              init='random', perplexity=50).fit_transform(vec_train_2)\n",
        "test_embedded = TSNE(n_components=2, learning_rate=200,\n",
        "              init='random', perplexity=50).fit_transform(vec_test_2)"
      ],
      "metadata": {
        "id": "anNXlooCdki2"
      },
      "execution_count": 46,
      "outputs": []
    },
    {
      "cell_type": "code",
      "source": [
        "df1 = pd.DataFrame()\n",
        "df2 = pd.DataFrame()\n",
        "df1['y'] = cat_train\n",
        "df2['y'] = cat_test\n",
        "df1[\"comp-1\"] = train_embedded [:,0]\n",
        "df1[\"comp-2\"] = train_embedded [:,1]\n",
        "df2[\"comp-1\"] = test_embedded [:,0]\n",
        "df2[\"comp-2\"] = test_embedded [:,1]"
      ],
      "metadata": {
        "colab": {
          "base_uri": "https://localhost:8080/",
          "height": 17
        },
        "id": "fNl8--XY_nGw",
        "outputId": "ab3d1331-53d9-4e8e-ac51-af2a0a2c5e0c"
      },
      "execution_count": 47,
      "outputs": [
        {
          "output_type": "display_data",
          "data": {
            "text/plain": [
              "<IPython.core.display.Javascript object>"
            ],
            "application/javascript": [
              "\n",
              "        if (window._pyforest_update_imports_cell) { window._pyforest_update_imports_cell('import pandas as pd\\nfrom sklearn.model_selection import cross_val_score'); }\n",
              "    "
            ]
          },
          "metadata": {}
        },
        {
          "output_type": "display_data",
          "data": {
            "text/plain": [
              "<IPython.core.display.Javascript object>"
            ],
            "application/javascript": [
              "\n",
              "        if (window._pyforest_update_imports_cell) { window._pyforest_update_imports_cell('import pandas as pd\\nfrom sklearn.model_selection import cross_val_score'); }\n",
              "    "
            ]
          },
          "metadata": {}
        }
      ]
    },
    {
      "cell_type": "code",
      "source": [
        "sns.scatterplot(x=\"comp-1\", y=\"comp-2\", hue=df1.y.tolist(),\n",
        "                data=df1).set(title=\"T-SNE projection of Training set\")"
      ],
      "metadata": {
        "colab": {
          "base_uri": "https://localhost:8080/",
          "height": 313
        },
        "id": "2ssBJJF2AGDg",
        "outputId": "151b87d3-62a2-46e7-d8dc-250bb9216d26"
      },
      "execution_count": 50,
      "outputs": [
        {
          "output_type": "execute_result",
          "data": {
            "text/plain": [
              "[Text(0.5, 1.0, 'T-SNE projection of Training set')]"
            ]
          },
          "metadata": {},
          "execution_count": 50
        },
        {
          "output_type": "display_data",
          "data": {
            "text/plain": [
              "<Figure size 432x288 with 1 Axes>"
            ],
            "image/png": "[encoded data removed]"
          },
          "metadata": {
            "needs_background": "light"
          }
        }
      ]
    },
    {
      "cell_type": "code",
      "source": [
        "sns.scatterplot(x=\"comp-1\", y=\"comp-2\", hue=df2.y.tolist(),\n",
        "                data=df2).set(title=\"T-SNE projection of Test set\")"
      ],
      "metadata": {
        "colab": {
          "base_uri": "https://localhost:8080/",
          "height": 313
        },
        "id": "l3-edofy7rtm",
        "outputId": "4541524c-0710-49a2-8208-7557b4d30713"
      },
      "execution_count": 51,
      "outputs": [
        {
          "output_type": "execute_result",
          "data": {
            "text/plain": [
              "[Text(0.5, 1.0, 'T-SNE projection of Test set')]"
            ]
          },
          "metadata": {},
          "execution_count": 51
        },
        {
          "output_type": "display_data",
          "data": {
            "text/plain": [
              "<Figure size 432x288 with 1 Axes>"
            ],
            "image/png": "[encoded data removed]"
          },
          "metadata": {
            "needs_background": "light"
          }
        }
      ]
    },
    {
      "cell_type": "code",
      "source": [],
      "metadata": {
        "id": "E83YMNm8_Fjc"
      },
      "execution_count": 41,
      "outputs": []
    },
    {
      "cell_type": "markdown",
      "source": [
        "# There is clear seperation between the photo texture and print texture, especially with the larger training dataset."
      ],
      "metadata": {
        "id": "gF_w9afTSowB"
      }
    },
    {
      "cell_type": "code",
      "source": [],
      "metadata": {
        "id": "9Y4FWC0cSy68"
      },
      "execution_count": 41,
      "outputs": []
    }
  ],
  "metadata": {
    "kernelspec": {
      "display_name": "Python 3",
      "language": "python",
      "name": "python3"
    },
    "language_info": {
      "codemirror_mode": {
        "name": "ipython",
        "version": 3
      },
      "file_extension": ".py",
      "mimetype": "text/x-python",
      "name": "python",
      "nbconvert_exporter": "python",
      "pygments_lexer": "ipython3",
      "version": "3.8.5"
    },
    "colab": {
      "provenance": []
    },
    "accelerator": "GPU",
    "gpuClass": "standard"
  },
  "nbformat": 4,
  "nbformat_minor": 0
}